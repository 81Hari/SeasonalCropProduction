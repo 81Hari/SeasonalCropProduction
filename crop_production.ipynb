{
 "cells": [
  {
   "cell_type": "markdown",
   "id": "6935bd31",
   "metadata": {},
   "source": [
    "# Intelligent Crop Recommendation System"
   ]
  },
  {
   "cell_type": "code",
   "execution_count": 1,
   "id": "464ec16d",
   "metadata": {},
   "outputs": [],
   "source": [
    "import pandas as pd\n",
    "import numpy as np\n",
    "import matplotlib.pyplot as plt\n",
    "import seaborn as sns\n",
    "%matplotlib inline"
   ]
  },
  {
   "cell_type": "markdown",
   "id": "40ac8e82",
   "metadata": {},
   "source": [
    "### Crop Production dataset"
   ]
  },
  {
   "cell_type": "code",
   "execution_count": 2,
   "id": "33e8ff43",
   "metadata": {},
   "outputs": [],
   "source": [
    "df = pd.read_csv('crop_production.csv')"
   ]
  },
  {
   "cell_type": "code",
   "execution_count": 3,
   "id": "755e7877",
   "metadata": {},
   "outputs": [
    {
     "data": {
      "text/html": [
       "<div>\n",
       "<style scoped>\n",
       "    .dataframe tbody tr th:only-of-type {\n",
       "        vertical-align: middle;\n",
       "    }\n",
       "\n",
       "    .dataframe tbody tr th {\n",
       "        vertical-align: top;\n",
       "    }\n",
       "\n",
       "    .dataframe thead th {\n",
       "        text-align: right;\n",
       "    }\n",
       "</style>\n",
       "<table border=\"1\" class=\"dataframe\">\n",
       "  <thead>\n",
       "    <tr style=\"text-align: right;\">\n",
       "      <th></th>\n",
       "      <th>State_Name</th>\n",
       "      <th>District_Name</th>\n",
       "      <th>Crop_Year</th>\n",
       "      <th>Season</th>\n",
       "      <th>Crop</th>\n",
       "      <th>Area</th>\n",
       "      <th>Production</th>\n",
       "    </tr>\n",
       "  </thead>\n",
       "  <tbody>\n",
       "    <tr>\n",
       "      <th>0</th>\n",
       "      <td>Andaman and Nicobar Islands</td>\n",
       "      <td>NICOBARS</td>\n",
       "      <td>2000</td>\n",
       "      <td>Kharif</td>\n",
       "      <td>Arecanut</td>\n",
       "      <td>1254.0</td>\n",
       "      <td>2000.0</td>\n",
       "    </tr>\n",
       "    <tr>\n",
       "      <th>1</th>\n",
       "      <td>Andaman and Nicobar Islands</td>\n",
       "      <td>NICOBARS</td>\n",
       "      <td>2000</td>\n",
       "      <td>Kharif</td>\n",
       "      <td>Other Kharif pulses</td>\n",
       "      <td>2.0</td>\n",
       "      <td>1.0</td>\n",
       "    </tr>\n",
       "    <tr>\n",
       "      <th>2</th>\n",
       "      <td>Andaman and Nicobar Islands</td>\n",
       "      <td>NICOBARS</td>\n",
       "      <td>2000</td>\n",
       "      <td>Kharif</td>\n",
       "      <td>Rice</td>\n",
       "      <td>102.0</td>\n",
       "      <td>321.0</td>\n",
       "    </tr>\n",
       "    <tr>\n",
       "      <th>3</th>\n",
       "      <td>Andaman and Nicobar Islands</td>\n",
       "      <td>NICOBARS</td>\n",
       "      <td>2000</td>\n",
       "      <td>Whole Year</td>\n",
       "      <td>Banana</td>\n",
       "      <td>176.0</td>\n",
       "      <td>641.0</td>\n",
       "    </tr>\n",
       "    <tr>\n",
       "      <th>4</th>\n",
       "      <td>Andaman and Nicobar Islands</td>\n",
       "      <td>NICOBARS</td>\n",
       "      <td>2000</td>\n",
       "      <td>Whole Year</td>\n",
       "      <td>Cashewnut</td>\n",
       "      <td>720.0</td>\n",
       "      <td>165.0</td>\n",
       "    </tr>\n",
       "  </tbody>\n",
       "</table>\n",
       "</div>"
      ],
      "text/plain": [
       "                    State_Name District_Name  Crop_Year       Season  \\\n",
       "0  Andaman and Nicobar Islands      NICOBARS       2000  Kharif        \n",
       "1  Andaman and Nicobar Islands      NICOBARS       2000  Kharif        \n",
       "2  Andaman and Nicobar Islands      NICOBARS       2000  Kharif        \n",
       "3  Andaman and Nicobar Islands      NICOBARS       2000  Whole Year    \n",
       "4  Andaman and Nicobar Islands      NICOBARS       2000  Whole Year    \n",
       "\n",
       "                  Crop    Area  Production  \n",
       "0             Arecanut  1254.0      2000.0  \n",
       "1  Other Kharif pulses     2.0         1.0  \n",
       "2                 Rice   102.0       321.0  \n",
       "3               Banana   176.0       641.0  \n",
       "4            Cashewnut   720.0       165.0  "
      ]
     },
     "execution_count": 3,
     "metadata": {},
     "output_type": "execute_result"
    }
   ],
   "source": [
    "df.head()"
   ]
  },
  {
   "cell_type": "code",
   "execution_count": 4,
   "id": "c6fc1457",
   "metadata": {},
   "outputs": [
    {
     "data": {
      "text/html": [
       "<div>\n",
       "<style scoped>\n",
       "    .dataframe tbody tr th:only-of-type {\n",
       "        vertical-align: middle;\n",
       "    }\n",
       "\n",
       "    .dataframe tbody tr th {\n",
       "        vertical-align: top;\n",
       "    }\n",
       "\n",
       "    .dataframe thead th {\n",
       "        text-align: right;\n",
       "    }\n",
       "</style>\n",
       "<table border=\"1\" class=\"dataframe\">\n",
       "  <thead>\n",
       "    <tr style=\"text-align: right;\">\n",
       "      <th></th>\n",
       "      <th>State_Name</th>\n",
       "      <th>District_Name</th>\n",
       "      <th>Crop_Year</th>\n",
       "      <th>Season</th>\n",
       "      <th>Crop</th>\n",
       "      <th>Area</th>\n",
       "      <th>Production</th>\n",
       "    </tr>\n",
       "  </thead>\n",
       "  <tbody>\n",
       "    <tr>\n",
       "      <th>246086</th>\n",
       "      <td>West Bengal</td>\n",
       "      <td>PURULIA</td>\n",
       "      <td>2014</td>\n",
       "      <td>Summer</td>\n",
       "      <td>Rice</td>\n",
       "      <td>306.0</td>\n",
       "      <td>801.0</td>\n",
       "    </tr>\n",
       "    <tr>\n",
       "      <th>246087</th>\n",
       "      <td>West Bengal</td>\n",
       "      <td>PURULIA</td>\n",
       "      <td>2014</td>\n",
       "      <td>Summer</td>\n",
       "      <td>Sesamum</td>\n",
       "      <td>627.0</td>\n",
       "      <td>463.0</td>\n",
       "    </tr>\n",
       "    <tr>\n",
       "      <th>246088</th>\n",
       "      <td>West Bengal</td>\n",
       "      <td>PURULIA</td>\n",
       "      <td>2014</td>\n",
       "      <td>Whole Year</td>\n",
       "      <td>Sugarcane</td>\n",
       "      <td>324.0</td>\n",
       "      <td>16250.0</td>\n",
       "    </tr>\n",
       "    <tr>\n",
       "      <th>246089</th>\n",
       "      <td>West Bengal</td>\n",
       "      <td>PURULIA</td>\n",
       "      <td>2014</td>\n",
       "      <td>Winter</td>\n",
       "      <td>Rice</td>\n",
       "      <td>279151.0</td>\n",
       "      <td>597899.0</td>\n",
       "    </tr>\n",
       "    <tr>\n",
       "      <th>246090</th>\n",
       "      <td>West Bengal</td>\n",
       "      <td>PURULIA</td>\n",
       "      <td>2014</td>\n",
       "      <td>Winter</td>\n",
       "      <td>Sesamum</td>\n",
       "      <td>175.0</td>\n",
       "      <td>88.0</td>\n",
       "    </tr>\n",
       "  </tbody>\n",
       "</table>\n",
       "</div>"
      ],
      "text/plain": [
       "         State_Name District_Name  Crop_Year       Season       Crop  \\\n",
       "246086  West Bengal       PURULIA       2014  Summer            Rice   \n",
       "246087  West Bengal       PURULIA       2014  Summer         Sesamum   \n",
       "246088  West Bengal       PURULIA       2014  Whole Year   Sugarcane   \n",
       "246089  West Bengal       PURULIA       2014  Winter            Rice   \n",
       "246090  West Bengal       PURULIA       2014  Winter         Sesamum   \n",
       "\n",
       "            Area  Production  \n",
       "246086     306.0       801.0  \n",
       "246087     627.0       463.0  \n",
       "246088     324.0     16250.0  \n",
       "246089  279151.0    597899.0  \n",
       "246090     175.0        88.0  "
      ]
     },
     "execution_count": 4,
     "metadata": {},
     "output_type": "execute_result"
    }
   ],
   "source": [
    "df.tail()"
   ]
  },
  {
   "cell_type": "code",
   "execution_count": 6,
   "id": "61263873",
   "metadata": {},
   "outputs": [
    {
     "data": {
      "text/plain": [
       "(246091, 7)"
      ]
     },
     "execution_count": 6,
     "metadata": {},
     "output_type": "execute_result"
    }
   ],
   "source": [
    "df.shape"
   ]
  },
  {
   "cell_type": "code",
   "execution_count": 7,
   "id": "e9b29934",
   "metadata": {},
   "outputs": [
    {
     "data": {
      "text/plain": [
       "State_Name        object\n",
       "District_Name     object\n",
       "Crop_Year          int64\n",
       "Season            object\n",
       "Crop              object\n",
       "Area             float64\n",
       "Production       float64\n",
       "dtype: object"
      ]
     },
     "execution_count": 7,
     "metadata": {},
     "output_type": "execute_result"
    }
   ],
   "source": [
    "df.dtypes"
   ]
  },
  {
   "cell_type": "markdown",
   "id": "e576c96a",
   "metadata": {},
   "source": [
    "### Removing null values"
   ]
  },
  {
   "cell_type": "code",
   "execution_count": 8,
   "id": "2d025efa",
   "metadata": {},
   "outputs": [
    {
     "data": {
      "text/plain": [
       "State_Name          0\n",
       "District_Name       0\n",
       "Crop_Year           0\n",
       "Season              0\n",
       "Crop                0\n",
       "Area                0\n",
       "Production       3730\n",
       "dtype: int64"
      ]
     },
     "execution_count": 8,
     "metadata": {},
     "output_type": "execute_result"
    }
   ],
   "source": [
    "df.isnull().sum()"
   ]
  },
  {
   "cell_type": "code",
   "execution_count": 15,
   "id": "5693ea74",
   "metadata": {},
   "outputs": [
    {
     "name": "stdout",
     "output_type": "stream",
     "text": [
      "1.5156994770227274%"
     ]
    }
   ],
   "source": [
    "null_percentage = (df.isnull().sum()['Production'] / df.shape[0]) * 100\n",
    "print(null_percentage, end='%')"
   ]
  },
  {
   "cell_type": "code",
   "execution_count": 18,
   "id": "d2d0ca6c",
   "metadata": {},
   "outputs": [],
   "source": [
    "df.dropna(subset=['Production'], axis='rows', inplace=True)"
   ]
  },
  {
   "cell_type": "code",
   "execution_count": 19,
   "id": "ac0bfd11",
   "metadata": {},
   "outputs": [
    {
     "data": {
      "text/plain": [
       "(242361, 7)"
      ]
     },
     "execution_count": 19,
     "metadata": {},
     "output_type": "execute_result"
    }
   ],
   "source": [
    "df.shape"
   ]
  },
  {
   "cell_type": "code",
   "execution_count": 20,
   "id": "6a161bd2",
   "metadata": {},
   "outputs": [
    {
     "data": {
      "text/plain": [
       "State_Name       0\n",
       "District_Name    0\n",
       "Crop_Year        0\n",
       "Season           0\n",
       "Crop             0\n",
       "Area             0\n",
       "Production       0\n",
       "dtype: int64"
      ]
     },
     "execution_count": 20,
     "metadata": {},
     "output_type": "execute_result"
    }
   ],
   "source": [
    "df.isnull().sum()"
   ]
  },
  {
   "cell_type": "markdown",
   "id": "6ac05b61",
   "metadata": {},
   "source": [
    "### Checking for correlation"
   ]
  },
  {
   "cell_type": "code",
   "execution_count": 30,
   "id": "5e5a4698",
   "metadata": {},
   "outputs": [
    {
     "data": {
      "text/plain": [
       "<AxesSubplot:>"
      ]
     },
     "execution_count": 30,
     "metadata": {},
     "output_type": "execute_result"
    },
    {
     "data": {
      "image/png": "[encoded data removed]",
      "text/plain": [
       "<Figure size 432x288 with 2 Axes>"
      ]
     },
     "metadata": {
      "needs_background": "light"
     },
     "output_type": "display_data"
    }
   ],
   "source": [
    "sns.heatmap(df.corr(), cmap=\"GnBu\", annot=True)"
   ]
  },
  {
   "cell_type": "markdown",
   "id": "d68d0be0",
   "metadata": {},
   "source": [
    "No highly correlated values"
   ]
  },
  {
   "cell_type": "code",
   "execution_count": 31,
   "id": "5ae4d718",
   "metadata": {},
   "outputs": [
    {
     "data": {
      "text/plain": [
       "Uttar Pradesh                  33189\n",
       "Madhya Pradesh                 22604\n",
       "Karnataka                      21079\n",
       "Bihar                          18874\n",
       "Assam                          14622\n",
       "Odisha                         13524\n",
       "Tamil Nadu                     13266\n",
       "Maharashtra                    12496\n",
       "Rajasthan                      12066\n",
       "Chhattisgarh                   10368\n",
       "West Bengal                     9597\n",
       "Andhra Pradesh                  9561\n",
       "Gujarat                         8365\n",
       "Telangana                       5591\n",
       "Uttarakhand                     4825\n",
       "Haryana                         4540\n",
       "Kerala                          4003\n",
       "Nagaland                        3904\n",
       "Punjab                          3143\n",
       "Meghalaya                       2867\n",
       "Arunachal Pradesh               2545\n",
       "Himachal Pradesh                2456\n",
       "Jammu and Kashmir               1632\n",
       "Tripura                         1412\n",
       "Jharkhand                       1266\n",
       "Manipur                         1266\n",
       "Mizoram                          954\n",
       "Puducherry                       872\n",
       "Sikkim                           714\n",
       "Dadra and Nagar Haveli           263\n",
       "Goa                              207\n",
       "Andaman and Nicobar Islands      201\n",
       "Chandigarh                        89\n",
       "Name: State_Name, dtype: int64"
      ]
     },
     "execution_count": 31,
     "metadata": {},
     "output_type": "execute_result"
    }
   ],
   "source": [
    "df['State_Name'].value_counts()"
   ]
  },
  {
   "cell_type": "code",
   "execution_count": 36,
   "id": "ea43cd69",
   "metadata": {},
   "outputs": [
    {
     "data": {
      "text/plain": [
       "33"
      ]
     },
     "execution_count": 36,
     "metadata": {},
     "output_type": "execute_result"
    }
   ],
   "source": [
    "df['State_Name'].nunique()"
   ]
  },
  {
   "cell_type": "code",
   "execution_count": 32,
   "id": "0170f167",
   "metadata": {
    "scrolled": true
   },
   "outputs": [
    {
     "data": {
      "text/plain": [
       "TUMKUR       931\n",
       "BELGAUM      924\n",
       "BIJAPUR      905\n",
       "HASSAN       895\n",
       "BELLARY      887\n",
       "            ... \n",
       "HYDERABAD      8\n",
       "RAMGARH        6\n",
       "KHUNTI         6\n",
       "NAMSAI         1\n",
       "MUMBAI         1\n",
       "Name: District_Name, Length: 646, dtype: int64"
      ]
     },
     "execution_count": 32,
     "metadata": {},
     "output_type": "execute_result"
    }
   ],
   "source": [
    "df['District_Name'].value_counts()"
   ]
  },
  {
   "cell_type": "code",
   "execution_count": 35,
   "id": "3616ef0a",
   "metadata": {},
   "outputs": [
    {
     "data": {
      "text/plain": [
       "646"
      ]
     },
     "execution_count": 35,
     "metadata": {},
     "output_type": "execute_result"
    }
   ],
   "source": [
    "df['District_Name'].nunique()"
   ]
  },
  {
   "cell_type": "code",
   "execution_count": 39,
   "id": "da4fc2c8",
   "metadata": {},
   "outputs": [
    {
     "name": "stdout",
     "output_type": "stream",
     "text": [
      "Year Range: 1997 - 2015\n",
      "2003    17139\n",
      "2002    16536\n",
      "2007    14269\n",
      "2008    14230\n",
      "2006    13976\n",
      "2004    13858\n",
      "2010    13793\n",
      "2011    13791\n",
      "2009    13767\n",
      "2000    13553\n",
      "2005    13519\n",
      "2013    13475\n",
      "2001    13293\n",
      "2012    13184\n",
      "1999    12441\n",
      "1998    11262\n",
      "2014    10815\n",
      "1997     8899\n",
      "2015      561\n",
      "Name: Crop_Year, dtype: int64\n"
     ]
    }
   ],
   "source": [
    "print(\"Year Range:\", df['Crop_Year'].min(), \"-\", df['Crop_Year'].max())\n",
    "print(df['Crop_Year'].value_counts())"
   ]
  },
  {
   "cell_type": "code",
   "execution_count": 42,
   "id": "f7f78425",
   "metadata": {},
   "outputs": [
    {
     "name": "stdout",
     "output_type": "stream",
     "text": [
      "Unique Crops: 124\n"
     ]
    },
    {
     "data": {
      "text/plain": [
       "array(['Arecanut', 'Other Kharif pulses', 'Rice', 'Banana', 'Cashewnut',\n",
       "       'Coconut ', 'Dry ginger', 'Sugarcane', 'Sweet potato', 'Tapioca',\n",
       "       'Black pepper', 'Dry chillies', 'other oilseeds', 'Turmeric',\n",
       "       'Maize', 'Moong(Green Gram)', 'Urad', 'Arhar/Tur', 'Groundnut',\n",
       "       'Sunflower', 'Bajra', 'Castor seed', 'Cotton(lint)', 'Horse-gram',\n",
       "       'Jowar', 'Korra', 'Ragi', 'Tobacco', 'Gram', 'Wheat', 'Masoor',\n",
       "       'Sesamum', 'Linseed', 'Safflower', 'Onion', 'other misc. pulses',\n",
       "       'Samai', 'Small millets', 'Coriander', 'Potato',\n",
       "       'Other  Rabi pulses', 'Soyabean', 'Beans & Mutter(Vegetable)',\n",
       "       'Bhindi', 'Brinjal', 'Citrus Fruit', 'Cucumber', 'Grapes', 'Mango',\n",
       "       'Orange', 'other fibres', 'Other Fresh Fruits', 'Other Vegetables',\n",
       "       'Papaya', 'Pome Fruit', 'Tomato', 'Mesta', 'Cowpea(Lobia)',\n",
       "       'Lemon', 'Pome Granet', 'Sapota', 'Cabbage', 'Rapeseed &Mustard',\n",
       "       'Peas  (vegetable)', 'Niger seed', 'Bottle Gourd', 'Varagu',\n",
       "       'Garlic', 'Ginger', 'Oilseeds total', 'Pulses total', 'Jute',\n",
       "       'Peas & beans (Pulses)', 'Blackgram', 'Paddy', 'Pineapple',\n",
       "       'Barley', 'Sannhamp', 'Khesari', 'Guar seed', 'Moth',\n",
       "       'Other Cereals & Millets', 'Cond-spcs other', 'Turnip', 'Carrot',\n",
       "       'Redish', 'Arcanut (Processed)', 'Atcanut (Raw)',\n",
       "       'Cashewnut Processed', 'Cashewnut Raw', 'Cardamom', 'Rubber',\n",
       "       'Bitter Gourd', 'Drum Stick', 'Jack Fruit', 'Snak Guard', 'Tea',\n",
       "       'Coffee', 'Cauliflower', 'Other Citrus Fruit', 'Water Melon',\n",
       "       'Total foodgrain', 'Kapas', 'Colocosia', 'Lentil', 'Bean',\n",
       "       'Jobster', 'Perilla', 'Rajmash Kholar', 'Ricebean (nagadal)',\n",
       "       'Ash Gourd', 'Beet Root', 'Lab-Lab', 'Ribed Guard', 'Yam',\n",
       "       'Pump Kin', 'Apple', 'Peach', 'Pear', 'Plums', 'Litchi', 'Ber',\n",
       "       'Other Dry Fruit', 'Jute & mesta'], dtype=object)"
      ]
     },
     "execution_count": 42,
     "metadata": {},
     "output_type": "execute_result"
    }
   ],
   "source": [
    "print(\"Unique Crops:\", df['Crop'].nunique())\n",
    "df['Crop'].unique()"
   ]
  },
  {
   "cell_type": "markdown",
   "id": "feca35bf",
   "metadata": {},
   "source": [
    "### Removing the empty spaces"
   ]
  },
  {
   "cell_type": "code",
   "execution_count": 43,
   "id": "2abac872",
   "metadata": {},
   "outputs": [
    {
     "name": "stdout",
     "output_type": "stream",
     "text": [
      "Unique Seasons: 6\n"
     ]
    },
    {
     "data": {
      "text/plain": [
       "array(['Kharif     ', 'Whole Year ', 'Autumn     ', 'Rabi       ',\n",
       "       'Summer     ', 'Winter     '], dtype=object)"
      ]
     },
     "execution_count": 43,
     "metadata": {},
     "output_type": "execute_result"
    }
   ],
   "source": [
    "print(\"Unique Seasons:\", df['Season'].nunique())\n",
    "df['Season'].unique()"
   ]
  },
  {
   "cell_type": "code",
   "execution_count": 49,
   "id": "87a0bb86",
   "metadata": {},
   "outputs": [
    {
     "data": {
      "text/plain": [
       "array(['Kharif', 'Whole Year', 'Autumn', 'Rabi', 'Summer', 'Winter'],\n",
       "      dtype=object)"
      ]
     },
     "execution_count": 49,
     "metadata": {},
     "output_type": "execute_result"
    }
   ],
   "source": [
    "df['Season'] = df['Season'].str.strip()\n",
    "df['Season'].unique()"
   ]
  },
  {
   "cell_type": "markdown",
   "id": "40e421bc",
   "metadata": {},
   "source": [
    "### Overall Statistics of the data"
   ]
  },
  {
   "cell_type": "code",
   "execution_count": 54,
   "id": "951a1085",
   "metadata": {
    "scrolled": true
   },
   "outputs": [
    {
     "data": {
      "text/html": [
       "<div>\n",
       "<style scoped>\n",
       "    .dataframe tbody tr th:only-of-type {\n",
       "        vertical-align: middle;\n",
       "    }\n",
       "\n",
       "    .dataframe tbody tr th {\n",
       "        vertical-align: top;\n",
       "    }\n",
       "\n",
       "    .dataframe thead th {\n",
       "        text-align: right;\n",
       "    }\n",
       "</style>\n",
       "<table border=\"1\" class=\"dataframe\">\n",
       "  <thead>\n",
       "    <tr style=\"text-align: right;\">\n",
       "      <th></th>\n",
       "      <th>State_Name</th>\n",
       "      <th>District_Name</th>\n",
       "      <th>Crop_Year</th>\n",
       "      <th>Season</th>\n",
       "      <th>Crop</th>\n",
       "      <th>Area</th>\n",
       "      <th>Production</th>\n",
       "    </tr>\n",
       "  </thead>\n",
       "  <tbody>\n",
       "    <tr>\n",
       "      <th>count</th>\n",
       "      <td>242361</td>\n",
       "      <td>242361</td>\n",
       "      <td>242361.000000</td>\n",
       "      <td>242361</td>\n",
       "      <td>242361</td>\n",
       "      <td>2.423610e+05</td>\n",
       "      <td>2.423610e+05</td>\n",
       "    </tr>\n",
       "    <tr>\n",
       "      <th>unique</th>\n",
       "      <td>33</td>\n",
       "      <td>646</td>\n",
       "      <td>NaN</td>\n",
       "      <td>6</td>\n",
       "      <td>124</td>\n",
       "      <td>NaN</td>\n",
       "      <td>NaN</td>\n",
       "    </tr>\n",
       "    <tr>\n",
       "      <th>top</th>\n",
       "      <td>Uttar Pradesh</td>\n",
       "      <td>TUMKUR</td>\n",
       "      <td>NaN</td>\n",
       "      <td>Kharif</td>\n",
       "      <td>Rice</td>\n",
       "      <td>NaN</td>\n",
       "      <td>NaN</td>\n",
       "    </tr>\n",
       "    <tr>\n",
       "      <th>freq</th>\n",
       "      <td>33189</td>\n",
       "      <td>931</td>\n",
       "      <td>NaN</td>\n",
       "      <td>94283</td>\n",
       "      <td>15082</td>\n",
       "      <td>NaN</td>\n",
       "      <td>NaN</td>\n",
       "    </tr>\n",
       "    <tr>\n",
       "      <th>mean</th>\n",
       "      <td>NaN</td>\n",
       "      <td>NaN</td>\n",
       "      <td>2005.625773</td>\n",
       "      <td>NaN</td>\n",
       "      <td>NaN</td>\n",
       "      <td>1.216741e+04</td>\n",
       "      <td>5.825034e+05</td>\n",
       "    </tr>\n",
       "    <tr>\n",
       "      <th>std</th>\n",
       "      <td>NaN</td>\n",
       "      <td>NaN</td>\n",
       "      <td>4.958285</td>\n",
       "      <td>NaN</td>\n",
       "      <td>NaN</td>\n",
       "      <td>5.085744e+04</td>\n",
       "      <td>1.706581e+07</td>\n",
       "    </tr>\n",
       "    <tr>\n",
       "      <th>min</th>\n",
       "      <td>NaN</td>\n",
       "      <td>NaN</td>\n",
       "      <td>1997.000000</td>\n",
       "      <td>NaN</td>\n",
       "      <td>NaN</td>\n",
       "      <td>1.000000e-01</td>\n",
       "      <td>0.000000e+00</td>\n",
       "    </tr>\n",
       "    <tr>\n",
       "      <th>25%</th>\n",
       "      <td>NaN</td>\n",
       "      <td>NaN</td>\n",
       "      <td>2002.000000</td>\n",
       "      <td>NaN</td>\n",
       "      <td>NaN</td>\n",
       "      <td>8.700000e+01</td>\n",
       "      <td>8.800000e+01</td>\n",
       "    </tr>\n",
       "    <tr>\n",
       "      <th>50%</th>\n",
       "      <td>NaN</td>\n",
       "      <td>NaN</td>\n",
       "      <td>2006.000000</td>\n",
       "      <td>NaN</td>\n",
       "      <td>NaN</td>\n",
       "      <td>6.030000e+02</td>\n",
       "      <td>7.290000e+02</td>\n",
       "    </tr>\n",
       "    <tr>\n",
       "      <th>75%</th>\n",
       "      <td>NaN</td>\n",
       "      <td>NaN</td>\n",
       "      <td>2010.000000</td>\n",
       "      <td>NaN</td>\n",
       "      <td>NaN</td>\n",
       "      <td>4.545000e+03</td>\n",
       "      <td>7.023000e+03</td>\n",
       "    </tr>\n",
       "    <tr>\n",
       "      <th>max</th>\n",
       "      <td>NaN</td>\n",
       "      <td>NaN</td>\n",
       "      <td>2015.000000</td>\n",
       "      <td>NaN</td>\n",
       "      <td>NaN</td>\n",
       "      <td>8.580100e+06</td>\n",
       "      <td>1.250800e+09</td>\n",
       "    </tr>\n",
       "  </tbody>\n",
       "</table>\n",
       "</div>"
      ],
      "text/plain": [
       "           State_Name District_Name      Crop_Year  Season    Crop  \\\n",
       "count          242361        242361  242361.000000  242361  242361   \n",
       "unique             33           646            NaN       6     124   \n",
       "top     Uttar Pradesh        TUMKUR            NaN  Kharif    Rice   \n",
       "freq            33189           931            NaN   94283   15082   \n",
       "mean              NaN           NaN    2005.625773     NaN     NaN   \n",
       "std               NaN           NaN       4.958285     NaN     NaN   \n",
       "min               NaN           NaN    1997.000000     NaN     NaN   \n",
       "25%               NaN           NaN    2002.000000     NaN     NaN   \n",
       "50%               NaN           NaN    2006.000000     NaN     NaN   \n",
       "75%               NaN           NaN    2010.000000     NaN     NaN   \n",
       "max               NaN           NaN    2015.000000     NaN     NaN   \n",
       "\n",
       "                Area    Production  \n",
       "count   2.423610e+05  2.423610e+05  \n",
       "unique           NaN           NaN  \n",
       "top              NaN           NaN  \n",
       "freq             NaN           NaN  \n",
       "mean    1.216741e+04  5.825034e+05  \n",
       "std     5.085744e+04  1.706581e+07  \n",
       "min     1.000000e-01  0.000000e+00  \n",
       "25%     8.700000e+01  8.800000e+01  \n",
       "50%     6.030000e+02  7.290000e+02  \n",
       "75%     4.545000e+03  7.023000e+03  \n",
       "max     8.580100e+06  1.250800e+09  "
      ]
     },
     "execution_count": 54,
     "metadata": {},
     "output_type": "execute_result"
    }
   ],
   "source": [
    "df.describe(include='all')"
   ]
  },
  {
   "cell_type": "markdown",
   "id": "563dad48",
   "metadata": {},
   "source": [
    "### Adding new column"
   ]
  },
  {
   "cell_type": "code",
   "execution_count": 88,
   "id": "d867054c",
   "metadata": {},
   "outputs": [],
   "source": [
    "def crop_types(crop):\n",
    "    if crop in ['Rice','Maize','Wheat','Barley','Varagu','Other Cereals & Millets','Ragi','Small millets','Bajra','Jowar', 'Paddy','Total foodgrain','Jobster']:\n",
    "        return 'Cereal'\n",
    "    if crop in ['Moong','Urad','Arhar/Tur','Peas & beans','Masoor',\n",
    "              'Other Kharif pulses','other misc. pulses','Ricebean (nagadal)',\n",
    "              'Rajmash Kholar','Lentil','Samai','Blackgram','Korra','Cowpea(Lobia)',\n",
    "              'Other  Rabi pulses','Other Kharif pulses','Peas & beans (Pulses)','Pulses total','Gram']:\n",
    "        return 'Pulses'\n",
    "    if crop in ['Peach','Apple','Litchi','Pear','Plums','Ber','Sapota','Lemon','Pome Granet',\n",
    "               'Other Citrus Fruit','Water Melon','Jack Fruit','Grapes','Pineapple','Orange',\n",
    "               'Pome Fruit','Citrus Fruit','Other Fresh Fruits','Mango','Papaya','Coconut','Banana']:\n",
    "        return 'Fruits'\n",
    "    if crop in ['Bean','Lab-Lab','Moth','Guar seed','Soyabean','Horse-gram']:\n",
    "        return 'Beans'\n",
    "    if crop in ['Turnip','Peas','Beet Root','Carrot','Yam','Ribed Guard','Ash Gourd ','Pump Kin','Redish','Snak Guard','Bottle Gourd',\n",
    "              'Bitter Gourd','Cucumber','Drum Stick','Cauliflower','Beans & Mutter(Vegetable)','Cabbage',\n",
    "              'Bhindi','Tomato','Brinjal','Khesari','Sweet potato','Potato','Onion','Tapioca','Colocosia']:\n",
    "        return 'Vegetables'\n",
    "    if crop in ['Perilla','Ginger','Cardamom','Black pepper','Dry ginger','Garlic','Coriander','Turmeric','Dry chillies','Cond-spcs other']:\n",
    "        return 'spices'\n",
    "    if crop in ['other fibres','Kapas','Jute & mesta','Jute','Mesta','Cotton(lint)','Sannhamp']:\n",
    "        return 'fibres'\n",
    "    if crop in ['Arcanut (Processed)','Atcanut (Raw)','Cashewnut Processed','Cashewnut Raw','Cashewnut','Arecanut','Groundnut']:\n",
    "        return 'Nuts'\n",
    "    if crop in ['other oilseeds','Safflower','Niger seed','Castor seed','Linseed','Sunflower','Rapeseed &Mustard','Sesamum','Oilseeds total']:\n",
    "        return 'oilseeds'\n",
    "    if crop in ['Tobacco','Coffee','Tea','Sugarcane','Rubber']:\n",
    "        return 'Commercial'\n",
    "\n",
    "df['Crop_Type']=df['Crop'].apply(crop_types)"
   ]
  },
  {
   "cell_type": "code",
   "execution_count": 89,
   "id": "65a89916",
   "metadata": {
    "scrolled": true
   },
   "outputs": [
    {
     "data": {
      "text/html": [
       "<div>\n",
       "<style scoped>\n",
       "    .dataframe tbody tr th:only-of-type {\n",
       "        vertical-align: middle;\n",
       "    }\n",
       "\n",
       "    .dataframe tbody tr th {\n",
       "        vertical-align: top;\n",
       "    }\n",
       "\n",
       "    .dataframe thead th {\n",
       "        text-align: right;\n",
       "    }\n",
       "</style>\n",
       "<table border=\"1\" class=\"dataframe\">\n",
       "  <thead>\n",
       "    <tr style=\"text-align: right;\">\n",
       "      <th></th>\n",
       "      <th>State_Name</th>\n",
       "      <th>District_Name</th>\n",
       "      <th>Crop_Year</th>\n",
       "      <th>Season</th>\n",
       "      <th>Crop</th>\n",
       "      <th>Area</th>\n",
       "      <th>Production</th>\n",
       "      <th>Crop_Type</th>\n",
       "    </tr>\n",
       "  </thead>\n",
       "  <tbody>\n",
       "    <tr>\n",
       "      <th>0</th>\n",
       "      <td>Andaman and Nicobar Islands</td>\n",
       "      <td>NICOBARS</td>\n",
       "      <td>2000</td>\n",
       "      <td>Kharif</td>\n",
       "      <td>Arecanut</td>\n",
       "      <td>1254.0</td>\n",
       "      <td>2000.0</td>\n",
       "      <td>Nuts</td>\n",
       "    </tr>\n",
       "    <tr>\n",
       "      <th>1</th>\n",
       "      <td>Andaman and Nicobar Islands</td>\n",
       "      <td>NICOBARS</td>\n",
       "      <td>2000</td>\n",
       "      <td>Kharif</td>\n",
       "      <td>Other Kharif pulses</td>\n",
       "      <td>2.0</td>\n",
       "      <td>1.0</td>\n",
       "      <td>Pulses</td>\n",
       "    </tr>\n",
       "    <tr>\n",
       "      <th>2</th>\n",
       "      <td>Andaman and Nicobar Islands</td>\n",
       "      <td>NICOBARS</td>\n",
       "      <td>2000</td>\n",
       "      <td>Kharif</td>\n",
       "      <td>Rice</td>\n",
       "      <td>102.0</td>\n",
       "      <td>321.0</td>\n",
       "      <td>Cereal</td>\n",
       "    </tr>\n",
       "    <tr>\n",
       "      <th>3</th>\n",
       "      <td>Andaman and Nicobar Islands</td>\n",
       "      <td>NICOBARS</td>\n",
       "      <td>2000</td>\n",
       "      <td>Whole Year</td>\n",
       "      <td>Banana</td>\n",
       "      <td>176.0</td>\n",
       "      <td>641.0</td>\n",
       "      <td>Fruits</td>\n",
       "    </tr>\n",
       "    <tr>\n",
       "      <th>4</th>\n",
       "      <td>Andaman and Nicobar Islands</td>\n",
       "      <td>NICOBARS</td>\n",
       "      <td>2000</td>\n",
       "      <td>Whole Year</td>\n",
       "      <td>Cashewnut</td>\n",
       "      <td>720.0</td>\n",
       "      <td>165.0</td>\n",
       "      <td>Nuts</td>\n",
       "    </tr>\n",
       "  </tbody>\n",
       "</table>\n",
       "</div>"
      ],
      "text/plain": [
       "                    State_Name District_Name  Crop_Year      Season  \\\n",
       "0  Andaman and Nicobar Islands      NICOBARS       2000      Kharif   \n",
       "1  Andaman and Nicobar Islands      NICOBARS       2000      Kharif   \n",
       "2  Andaman and Nicobar Islands      NICOBARS       2000      Kharif   \n",
       "3  Andaman and Nicobar Islands      NICOBARS       2000  Whole Year   \n",
       "4  Andaman and Nicobar Islands      NICOBARS       2000  Whole Year   \n",
       "\n",
       "                  Crop    Area  Production Crop_Type  \n",
       "0             Arecanut  1254.0      2000.0      Nuts  \n",
       "1  Other Kharif pulses     2.0         1.0    Pulses  \n",
       "2                 Rice   102.0       321.0    Cereal  \n",
       "3               Banana   176.0       641.0    Fruits  \n",
       "4            Cashewnut   720.0       165.0      Nuts  "
      ]
     },
     "execution_count": 89,
     "metadata": {},
     "output_type": "execute_result"
    }
   ],
   "source": [
    "df.head()"
   ]
  },
  {
   "cell_type": "markdown",
   "id": "796a444a",
   "metadata": {},
   "source": [
    "### Visualization"
   ]
  },
  {
   "cell_type": "code",
   "execution_count": 106,
   "id": "335cdd1f",
   "metadata": {},
   "outputs": [
    {
     "data": {
      "text/html": [
       "<div>\n",
       "<style scoped>\n",
       "    .dataframe tbody tr th:only-of-type {\n",
       "        vertical-align: middle;\n",
       "    }\n",
       "\n",
       "    .dataframe tbody tr th {\n",
       "        vertical-align: top;\n",
       "    }\n",
       "\n",
       "    .dataframe thead th {\n",
       "        text-align: right;\n",
       "    }\n",
       "</style>\n",
       "<table border=\"1\" class=\"dataframe\">\n",
       "  <thead>\n",
       "    <tr style=\"text-align: right;\">\n",
       "      <th></th>\n",
       "      <th>State_Name</th>\n",
       "      <th>Crop_Year</th>\n",
       "      <th>Area</th>\n",
       "      <th>Production</th>\n",
       "    </tr>\n",
       "  </thead>\n",
       "  <tbody>\n",
       "    <tr>\n",
       "      <th>15</th>\n",
       "      <td>Kerala</td>\n",
       "      <td>8028282</td>\n",
       "      <td>3.180225e+07</td>\n",
       "      <td>9.788005e+10</td>\n",
       "    </tr>\n",
       "    <tr>\n",
       "      <th>1</th>\n",
       "      <td>Andhra Pradesh</td>\n",
       "      <td>19180467</td>\n",
       "      <td>1.315073e+08</td>\n",
       "      <td>1.732459e+10</td>\n",
       "    </tr>\n",
       "    <tr>\n",
       "      <th>27</th>\n",
       "      <td>Tamil Nadu</td>\n",
       "      <td>26596201</td>\n",
       "      <td>9.541695e+07</td>\n",
       "      <td>1.207644e+10</td>\n",
       "    </tr>\n",
       "    <tr>\n",
       "      <th>30</th>\n",
       "      <td>Uttar Pradesh</td>\n",
       "      <td>66576513</td>\n",
       "      <td>4.336223e+08</td>\n",
       "      <td>3.234493e+09</td>\n",
       "    </tr>\n",
       "    <tr>\n",
       "      <th>3</th>\n",
       "      <td>Assam</td>\n",
       "      <td>29337168</td>\n",
       "      <td>7.037875e+07</td>\n",
       "      <td>2.111752e+09</td>\n",
       "    </tr>\n",
       "  </tbody>\n",
       "</table>\n",
       "</div>"
      ],
      "text/plain": [
       "        State_Name  Crop_Year          Area    Production\n",
       "15          Kerala    8028282  3.180225e+07  9.788005e+10\n",
       "1   Andhra Pradesh   19180467  1.315073e+08  1.732459e+10\n",
       "27      Tamil Nadu   26596201  9.541695e+07  1.207644e+10\n",
       "30   Uttar Pradesh   66576513  4.336223e+08  3.234493e+09\n",
       "3            Assam   29337168  7.037875e+07  2.111752e+09"
      ]
     },
     "execution_count": 106,
     "metadata": {},
     "output_type": "execute_result"
    }
   ],
   "source": [
    "statewise_prod = df.groupby('State_Name').sum().reset_index().sort_values(by='Production', ascending=False)\n",
    "statewise_prod.head()"
   ]
  },
  {
   "cell_type": "code",
   "execution_count": 117,
   "id": "855cf525",
   "metadata": {},
   "outputs": [
    {
     "data": {
      "text/plain": [
       "<AxesSubplot:xlabel='Production', ylabel='State_Name'>"
      ]
     },
     "execution_count": 117,
     "metadata": {},
     "output_type": "execute_result"
    },
    {
     "data": {
      "image/png": "[encoded data removed]",
      "text/plain": [
       "<Figure size 936x1080 with 1 Axes>"
      ]
     },
     "metadata": {
      "needs_background": "light"
     },
     "output_type": "display_data"
    }
   ],
   "source": [
    "plt.figure(figsize= (13,15))\n",
    "plt.xscale('log')\n",
    "sns.barplot(x=statewise_prod['Production'], y=statewise_prod[\"State_Name\"], orient='h')"
   ]
  },
  {
   "cell_type": "code",
   "execution_count": 55,
   "id": "e7732f4f",
   "metadata": {},
   "outputs": [
    {
     "data": {
      "text/plain": [
       "Rice                 15082\n",
       "Maize                13787\n",
       "Moong(Green Gram)    10106\n",
       "Urad                  9710\n",
       "Sesamum               8821\n",
       "                     ...  \n",
       "Pear                     6\n",
       "Plums                    6\n",
       "Apple                    4\n",
       "Peach                    4\n",
       "Other Dry Fruit          1\n",
       "Name: Crop, Length: 124, dtype: int64"
      ]
     },
     "execution_count": 55,
     "metadata": {},
     "output_type": "execute_result"
    }
   ],
   "source": [
    "df['Crop'].value_counts()"
   ]
  },
  {
   "cell_type": "code",
   "execution_count": 74,
   "id": "63800f01",
   "metadata": {},
   "outputs": [
    {
     "data": {
      "text/html": [
       "<div>\n",
       "<style scoped>\n",
       "    .dataframe tbody tr th:only-of-type {\n",
       "        vertical-align: middle;\n",
       "    }\n",
       "\n",
       "    .dataframe tbody tr th {\n",
       "        vertical-align: top;\n",
       "    }\n",
       "\n",
       "    .dataframe thead th {\n",
       "        text-align: right;\n",
       "    }\n",
       "</style>\n",
       "<table border=\"1\" class=\"dataframe\">\n",
       "  <thead>\n",
       "    <tr style=\"text-align: right;\">\n",
       "      <th></th>\n",
       "      <th>Crop</th>\n",
       "      <th>Production</th>\n",
       "    </tr>\n",
       "  </thead>\n",
       "  <tbody>\n",
       "    <tr>\n",
       "      <th>28</th>\n",
       "      <td>Coconut</td>\n",
       "      <td>1.299816e+11</td>\n",
       "    </tr>\n",
       "    <tr>\n",
       "      <th>106</th>\n",
       "      <td>Sugarcane</td>\n",
       "      <td>5.535682e+09</td>\n",
       "    </tr>\n",
       "    <tr>\n",
       "      <th>95</th>\n",
       "      <td>Rice</td>\n",
       "      <td>1.605470e+09</td>\n",
       "    </tr>\n",
       "    <tr>\n",
       "      <th>119</th>\n",
       "      <td>Wheat</td>\n",
       "      <td>1.332826e+09</td>\n",
       "    </tr>\n",
       "    <tr>\n",
       "      <th>87</th>\n",
       "      <td>Potato</td>\n",
       "      <td>4.248263e+08</td>\n",
       "    </tr>\n",
       "    <tr>\n",
       "      <th>33</th>\n",
       "      <td>Cotton(lint)</td>\n",
       "      <td>2.970000e+08</td>\n",
       "    </tr>\n",
       "    <tr>\n",
       "      <th>59</th>\n",
       "      <td>Maize</td>\n",
       "      <td>2.733418e+08</td>\n",
       "    </tr>\n",
       "    <tr>\n",
       "      <th>49</th>\n",
       "      <td>Jute</td>\n",
       "      <td>1.815582e+08</td>\n",
       "    </tr>\n",
       "    <tr>\n",
       "      <th>7</th>\n",
       "      <td>Banana</td>\n",
       "      <td>1.461327e+08</td>\n",
       "    </tr>\n",
       "    <tr>\n",
       "      <th>105</th>\n",
       "      <td>Soyabean</td>\n",
       "      <td>1.418372e+08</td>\n",
       "    </tr>\n",
       "  </tbody>\n",
       "</table>\n",
       "</div>"
      ],
      "text/plain": [
       "             Crop    Production\n",
       "28       Coconut   1.299816e+11\n",
       "106     Sugarcane  5.535682e+09\n",
       "95           Rice  1.605470e+09\n",
       "119         Wheat  1.332826e+09\n",
       "87         Potato  4.248263e+08\n",
       "33   Cotton(lint)  2.970000e+08\n",
       "59          Maize  2.733418e+08\n",
       "49           Jute  1.815582e+08\n",
       "7          Banana  1.461327e+08\n",
       "105      Soyabean  1.418372e+08"
      ]
     },
     "execution_count": 74,
     "metadata": {},
     "output_type": "execute_result"
    }
   ],
   "source": [
    "crop_prod = df.groupby('Crop')['Production'].sum().reset_index().sort_values(by='Production', ascending=False)\n",
    "crop_prod.head(10)"
   ]
  },
  {
   "cell_type": "code",
   "execution_count": 75,
   "id": "f4957d36",
   "metadata": {},
   "outputs": [
    {
     "data": {
      "text/plain": [
       "Index(['Crop', 'Production'], dtype='object')"
      ]
     },
     "execution_count": 75,
     "metadata": {},
     "output_type": "execute_result"
    }
   ],
   "source": [
    "crop_prod.columns"
   ]
  },
  {
   "cell_type": "code",
   "execution_count": 93,
   "id": "9a6c2ad9",
   "metadata": {},
   "outputs": [
    {
     "data": {
      "text/plain": [
       "Text(0.5, 1.0, 'Total Crops vs Production')"
      ]
     },
     "execution_count": 93,
     "metadata": {},
     "output_type": "execute_result"
    },
    {
     "data": {
      "image/png": "[encoded data removed]",
      "text/plain": [
       "<Figure size 936x504 with 1 Axes>"
      ]
     },
     "metadata": {
      "needs_background": "light"
     },
     "output_type": "display_data"
    }
   ],
   "source": [
    "fig, ax = plt.subplots(figsize=(13,7))\n",
    "sns.barplot(x=crop_prod['Crop'].head(10), y=crop_prod['Production'])\n",
    "plt.yscale('log')\n",
    "plt.title('Total Crops vs Production')"
   ]
  },
  {
   "cell_type": "code",
   "execution_count": 121,
   "id": "533b1671",
   "metadata": {},
   "outputs": [
    {
     "data": {
      "text/plain": [
       "Text(0.5, 1.0, 'Crop Types vs Production')"
      ]
     },
     "execution_count": 121,
     "metadata": {},
     "output_type": "execute_result"
    },
    {
     "data": {
      "image/png": "[encoded data removed]",
      "text/plain": [
       "<Figure size 936x504 with 1 Axes>"
      ]
     },
     "metadata": {
      "needs_background": "light"
     },
     "output_type": "display_data"
    }
   ],
   "source": [
    "df_crop_type = df.copy()\n",
    "df_crop_type.head()\n",
    "df_crop_type = df_crop_type.groupby('Crop_Type')['Production'].sum().reset_index().sort_values(by='Production', ascending=False)\n",
    "\n",
    "fig, ax = plt.subplots(figsize=(13,7))\n",
    "sns.barplot(x=df_crop_type['Crop_Type'], y=df_crop_type['Production'])\n",
    "plt.title('Crop Types vs Production')"
   ]
  },
  {
   "cell_type": "code",
   "execution_count": 119,
   "id": "3a58fd80",
   "metadata": {},
   "outputs": [
    {
     "data": {
      "text/plain": [
       "Text(0.5, 1.0, 'Seasonal Crops vs Production')"
      ]
     },
     "execution_count": 119,
     "metadata": {},
     "output_type": "execute_result"
    },
    {
     "data": {
      "image/png": "[encoded data removed]",
      "text/plain": [
       "<Figure size 936x504 with 1 Axes>"
      ]
     },
     "metadata": {
      "needs_background": "light"
     },
     "output_type": "display_data"
    }
   ],
   "source": [
    "df_season=df.copy()\n",
    "season = df_season.groupby('Season')['Production'].sum().reset_index().sort_values(by='Production', ascending=False)\n",
    "fig, ax = plt.subplots(figsize=(13,7))\n",
    "sns.barplot(x=season['Season'].head(10), y=season['Production'].head(10))\n",
    "plt.yscale('log')\n",
    "plt.title('Seasonal Crops vs Production')"
   ]
  },
  {
   "cell_type": "markdown",
   "id": "cf04d5a3",
   "metadata": {},
   "source": [
    "### Checking for outliers"
   ]
  },
  {
   "cell_type": "code",
   "execution_count": 189,
   "id": "054e461e",
   "metadata": {},
   "outputs": [],
   "source": [
    "from sklearn.neighbors import LocalOutlierFactor\n",
    "from scipy.stats import norm"
   ]
  },
  {
   "cell_type": "code",
   "execution_count": 139,
   "id": "7cd9022e",
   "metadata": {},
   "outputs": [
    {
     "data": {
      "text/html": [
       "<div>\n",
       "<style scoped>\n",
       "    .dataframe tbody tr th:only-of-type {\n",
       "        vertical-align: middle;\n",
       "    }\n",
       "\n",
       "    .dataframe tbody tr th {\n",
       "        vertical-align: top;\n",
       "    }\n",
       "\n",
       "    .dataframe thead th {\n",
       "        text-align: right;\n",
       "    }\n",
       "</style>\n",
       "<table border=\"1\" class=\"dataframe\">\n",
       "  <thead>\n",
       "    <tr style=\"text-align: right;\">\n",
       "      <th></th>\n",
       "      <th>State_Name</th>\n",
       "      <th>District_Name</th>\n",
       "      <th>Crop_Year</th>\n",
       "      <th>Season</th>\n",
       "      <th>Crop</th>\n",
       "      <th>Area</th>\n",
       "      <th>Production</th>\n",
       "      <th>Crop_Type</th>\n",
       "    </tr>\n",
       "  </thead>\n",
       "  <tbody>\n",
       "    <tr>\n",
       "      <th>0</th>\n",
       "      <td>Andaman and Nicobar Islands</td>\n",
       "      <td>NICOBARS</td>\n",
       "      <td>2000</td>\n",
       "      <td>Kharif</td>\n",
       "      <td>Arecanut</td>\n",
       "      <td>1254.0</td>\n",
       "      <td>2000.0</td>\n",
       "      <td>Nuts</td>\n",
       "    </tr>\n",
       "    <tr>\n",
       "      <th>1</th>\n",
       "      <td>Andaman and Nicobar Islands</td>\n",
       "      <td>NICOBARS</td>\n",
       "      <td>2000</td>\n",
       "      <td>Kharif</td>\n",
       "      <td>Other Kharif pulses</td>\n",
       "      <td>2.0</td>\n",
       "      <td>1.0</td>\n",
       "      <td>Pulses</td>\n",
       "    </tr>\n",
       "    <tr>\n",
       "      <th>2</th>\n",
       "      <td>Andaman and Nicobar Islands</td>\n",
       "      <td>NICOBARS</td>\n",
       "      <td>2000</td>\n",
       "      <td>Kharif</td>\n",
       "      <td>Rice</td>\n",
       "      <td>102.0</td>\n",
       "      <td>321.0</td>\n",
       "      <td>Cereal</td>\n",
       "    </tr>\n",
       "    <tr>\n",
       "      <th>3</th>\n",
       "      <td>Andaman and Nicobar Islands</td>\n",
       "      <td>NICOBARS</td>\n",
       "      <td>2000</td>\n",
       "      <td>Whole Year</td>\n",
       "      <td>Banana</td>\n",
       "      <td>176.0</td>\n",
       "      <td>641.0</td>\n",
       "      <td>Fruits</td>\n",
       "    </tr>\n",
       "    <tr>\n",
       "      <th>4</th>\n",
       "      <td>Andaman and Nicobar Islands</td>\n",
       "      <td>NICOBARS</td>\n",
       "      <td>2000</td>\n",
       "      <td>Whole Year</td>\n",
       "      <td>Cashewnut</td>\n",
       "      <td>720.0</td>\n",
       "      <td>165.0</td>\n",
       "      <td>Nuts</td>\n",
       "    </tr>\n",
       "  </tbody>\n",
       "</table>\n",
       "</div>"
      ],
      "text/plain": [
       "                    State_Name District_Name  Crop_Year      Season  \\\n",
       "0  Andaman and Nicobar Islands      NICOBARS       2000      Kharif   \n",
       "1  Andaman and Nicobar Islands      NICOBARS       2000      Kharif   \n",
       "2  Andaman and Nicobar Islands      NICOBARS       2000      Kharif   \n",
       "3  Andaman and Nicobar Islands      NICOBARS       2000  Whole Year   \n",
       "4  Andaman and Nicobar Islands      NICOBARS       2000  Whole Year   \n",
       "\n",
       "                  Crop    Area  Production Crop_Type  \n",
       "0             Arecanut  1254.0      2000.0      Nuts  \n",
       "1  Other Kharif pulses     2.0         1.0    Pulses  \n",
       "2                 Rice   102.0       321.0    Cereal  \n",
       "3               Banana   176.0       641.0    Fruits  \n",
       "4            Cashewnut   720.0       165.0      Nuts  "
      ]
     },
     "execution_count": 139,
     "metadata": {},
     "output_type": "execute_result"
    }
   ],
   "source": [
    "df.head()"
   ]
  },
  {
   "cell_type": "code",
   "execution_count": 157,
   "id": "e4784e2b",
   "metadata": {},
   "outputs": [
    {
     "data": {
      "image/png": "[encoded data removed]",
      "text/plain": [
       "<Figure size 432x288 with 1 Axes>"
      ]
     },
     "metadata": {
      "needs_background": "light"
     },
     "output_type": "display_data"
    }
   ],
   "source": [
    "sns.boxplot(x=df['Production'])\n",
    "plt.xscale('log')"
   ]
  },
  {
   "cell_type": "code",
   "execution_count": 158,
   "id": "092d4058",
   "metadata": {
    "scrolled": true
   },
   "outputs": [
    {
     "data": {
      "image/png": "[encoded data removed]",
      "text/plain": [
       "<Figure size 432x288 with 1 Axes>"
      ]
     },
     "metadata": {
      "needs_background": "light"
     },
     "output_type": "display_data"
    }
   ],
   "source": [
    "sns.boxplot(x=df['Area'])\n",
    "plt.xscale('log')"
   ]
  },
  {
   "cell_type": "code",
   "execution_count": 168,
   "id": "692e0241",
   "metadata": {
    "scrolled": false
   },
   "outputs": [
    {
     "data": {
      "image/png": "[encoded data removed]",
      "text/plain": [
       "<Figure size 1080x1080 with 1 Axes>"
      ]
     },
     "metadata": {
      "needs_background": "light"
     },
     "output_type": "display_data"
    }
   ],
   "source": [
    "fig, ax = plt.subplots(figsize=(15,15))\n",
    "sns.boxplot(x=\"Crop_Year\", y=\"Production\", data=df)\n",
    "plt.yscale('log')"
   ]
  },
  {
   "cell_type": "code",
   "execution_count": 162,
   "id": "3e366459",
   "metadata": {
    "scrolled": false
   },
   "outputs": [
    {
     "data": {
      "image/png": "[encoded data removed]",
      "text/plain": [
       "<Figure size 936x792 with 1 Axes>"
      ]
     },
     "metadata": {
      "needs_background": "light"
     },
     "output_type": "display_data"
    }
   ],
   "source": [
    "fig, ax = plt.subplots(figsize=(13,11))\n",
    "sns.boxplot(x=\"Season\", y=\"Production\", data=df)\n",
    "plt.yscale('log')"
   ]
  },
  {
   "cell_type": "markdown",
   "id": "2ccb01cb",
   "metadata": {},
   "source": [
    "### Checking the IQR"
   ]
  },
  {
   "cell_type": "code",
   "execution_count": 286,
   "id": "61c60c98",
   "metadata": {},
   "outputs": [],
   "source": [
    "clean_df = df.copy()"
   ]
  },
  {
   "cell_type": "code",
   "execution_count": 287,
   "id": "b8dbe45d",
   "metadata": {},
   "outputs": [
    {
     "name": "stdout",
     "output_type": "stream",
     "text": [
      "Min: 0.0\n",
      "Max: 1250800000.0\n"
     ]
    }
   ],
   "source": [
    "print(\"Min:\", clean_df['Production'].min())\n",
    "print(\"Max:\", clean_df['Production'].max())"
   ]
  },
  {
   "cell_type": "code",
   "execution_count": 288,
   "id": "9ebf281f",
   "metadata": {},
   "outputs": [
    {
     "name": "stdout",
     "output_type": "stream",
     "text": [
      "Crop_Year        8.0\n",
      "Area          4458.0\n",
      "Production    6935.0\n",
      "scores           0.0\n",
      "anomaly          0.0\n",
      "dtype: float64\n"
     ]
    }
   ],
   "source": [
    "Q1 = clean_df.quantile(0.25)\n",
    "Q3 = clean_df.quantile(0.75)\n",
    "IQR = Q3 - Q1\n",
    "print(IQR)"
   ]
  },
  {
   "cell_type": "code",
   "execution_count": 290,
   "id": "d564c0e9",
   "metadata": {},
   "outputs": [
    {
     "data": {
      "text/plain": [
       "(Crop_Year      1990.0\n",
       " Area          -6600.0\n",
       " Production   -10314.5\n",
       " scores            0.5\n",
       " anomaly           1.0\n",
       " dtype: float64,\n",
       " Crop_Year      2022.0\n",
       " Area          11232.0\n",
       " Production    17425.5\n",
       " scores            0.5\n",
       " anomaly           1.0\n",
       " dtype: float64)"
      ]
     },
     "execution_count": 290,
     "metadata": {},
     "output_type": "execute_result"
    }
   ],
   "source": [
    "lower_limit = Q1 - 1.5 * IQR\n",
    "upper_limit = Q3 + 1.5 * IQR\n",
    "lower_limit, upper_limit"
   ]
  },
  {
   "cell_type": "code",
   "execution_count": 292,
   "id": "2d28af75",
   "metadata": {},
   "outputs": [
    {
     "name": "stderr",
     "output_type": "stream",
     "text": [
      "<ipython-input-292-86be96fdf282>:1: FutureWarning: Automatic reindexing on DataFrame vs Series comparisons is deprecated and will raise ValueError in a future version.  Do `left, right = left.align(right, axis=1, copy=False)` before e.g. `left == right`\n",
      "  clean_df[((clean_df < lower_limit) | (clean_df > upper_limit)).any(axis=1)]\n",
      "<ipython-input-292-86be96fdf282>:1: FutureWarning: Automatic reindexing on DataFrame vs Series comparisons is deprecated and will raise ValueError in a future version.  Do `left, right = left.align(right, axis=1, copy=False)` before e.g. `left == right`\n",
      "  clean_df[((clean_df < lower_limit) | (clean_df > upper_limit)).any(axis=1)]\n"
     ]
    },
    {
     "data": {
      "text/html": [
       "<div>\n",
       "<style scoped>\n",
       "    .dataframe tbody tr th:only-of-type {\n",
       "        vertical-align: middle;\n",
       "    }\n",
       "\n",
       "    .dataframe tbody tr th {\n",
       "        vertical-align: top;\n",
       "    }\n",
       "\n",
       "    .dataframe thead th {\n",
       "        text-align: right;\n",
       "    }\n",
       "</style>\n",
       "<table border=\"1\" class=\"dataframe\">\n",
       "  <thead>\n",
       "    <tr style=\"text-align: right;\">\n",
       "      <th></th>\n",
       "      <th>State_Name</th>\n",
       "      <th>District_Name</th>\n",
       "      <th>Crop_Year</th>\n",
       "      <th>Season</th>\n",
       "      <th>Crop</th>\n",
       "      <th>Area</th>\n",
       "      <th>Production</th>\n",
       "      <th>Crop_Type</th>\n",
       "      <th>scores</th>\n",
       "      <th>anomaly</th>\n",
       "    </tr>\n",
       "  </thead>\n",
       "  <tbody>\n",
       "    <tr>\n",
       "      <th>5</th>\n",
       "      <td>Andaman and Nicobar Islands</td>\n",
       "      <td>NICOBARS</td>\n",
       "      <td>2000</td>\n",
       "      <td>Whole Year</td>\n",
       "      <td>Coconut</td>\n",
       "      <td>18168.0</td>\n",
       "      <td>65100000.00</td>\n",
       "      <td>None</td>\n",
       "      <td>4.058091e-01</td>\n",
       "      <td>1</td>\n",
       "    </tr>\n",
       "    <tr>\n",
       "      <th>10</th>\n",
       "      <td>Andaman and Nicobar Islands</td>\n",
       "      <td>NICOBARS</td>\n",
       "      <td>2001</td>\n",
       "      <td>Kharif</td>\n",
       "      <td>Arecanut</td>\n",
       "      <td>1254.0</td>\n",
       "      <td>2061.00</td>\n",
       "      <td>Nuts</td>\n",
       "      <td>-5.500000e+09</td>\n",
       "      <td>-1</td>\n",
       "    </tr>\n",
       "    <tr>\n",
       "      <th>14</th>\n",
       "      <td>Andaman and Nicobar Islands</td>\n",
       "      <td>NICOBARS</td>\n",
       "      <td>2001</td>\n",
       "      <td>Whole Year</td>\n",
       "      <td>Coconut</td>\n",
       "      <td>18190.0</td>\n",
       "      <td>64430000.00</td>\n",
       "      <td>None</td>\n",
       "      <td>4.256335e-01</td>\n",
       "      <td>1</td>\n",
       "    </tr>\n",
       "    <tr>\n",
       "      <th>18</th>\n",
       "      <td>Andaman and Nicobar Islands</td>\n",
       "      <td>NICOBARS</td>\n",
       "      <td>2002</td>\n",
       "      <td>Kharif</td>\n",
       "      <td>Rice</td>\n",
       "      <td>189.2</td>\n",
       "      <td>510.84</td>\n",
       "      <td>Cereal</td>\n",
       "      <td>-1.436500e+09</td>\n",
       "      <td>-1</td>\n",
       "    </tr>\n",
       "    <tr>\n",
       "      <th>20</th>\n",
       "      <td>Andaman and Nicobar Islands</td>\n",
       "      <td>NICOBARS</td>\n",
       "      <td>2002</td>\n",
       "      <td>Whole Year</td>\n",
       "      <td>Banana</td>\n",
       "      <td>213.0</td>\n",
       "      <td>1278.00</td>\n",
       "      <td>Fruits</td>\n",
       "      <td>5.008363e-01</td>\n",
       "      <td>1</td>\n",
       "    </tr>\n",
       "    <tr>\n",
       "      <th>...</th>\n",
       "      <td>...</td>\n",
       "      <td>...</td>\n",
       "      <td>...</td>\n",
       "      <td>...</td>\n",
       "      <td>...</td>\n",
       "      <td>...</td>\n",
       "      <td>...</td>\n",
       "      <td>...</td>\n",
       "      <td>...</td>\n",
       "      <td>...</td>\n",
       "    </tr>\n",
       "    <tr>\n",
       "      <th>246081</th>\n",
       "      <td>West Bengal</td>\n",
       "      <td>PURULIA</td>\n",
       "      <td>2014</td>\n",
       "      <td>Rabi</td>\n",
       "      <td>Rapeseed &amp;Mustard</td>\n",
       "      <td>1885.0</td>\n",
       "      <td>1508.00</td>\n",
       "      <td>oilseeds</td>\n",
       "      <td>5.002500e-01</td>\n",
       "      <td>1</td>\n",
       "    </tr>\n",
       "    <tr>\n",
       "      <th>246084</th>\n",
       "      <td>West Bengal</td>\n",
       "      <td>PURULIA</td>\n",
       "      <td>2014</td>\n",
       "      <td>Rabi</td>\n",
       "      <td>Wheat</td>\n",
       "      <td>1622.0</td>\n",
       "      <td>3663.00</td>\n",
       "      <td>Cereal</td>\n",
       "      <td>4.361391e-01</td>\n",
       "      <td>1</td>\n",
       "    </tr>\n",
       "    <tr>\n",
       "      <th>246085</th>\n",
       "      <td>West Bengal</td>\n",
       "      <td>PURULIA</td>\n",
       "      <td>2014</td>\n",
       "      <td>Summer</td>\n",
       "      <td>Maize</td>\n",
       "      <td>325.0</td>\n",
       "      <td>2039.00</td>\n",
       "      <td>Cereal</td>\n",
       "      <td>-5.625000e+09</td>\n",
       "      <td>-1</td>\n",
       "    </tr>\n",
       "    <tr>\n",
       "      <th>246088</th>\n",
       "      <td>West Bengal</td>\n",
       "      <td>PURULIA</td>\n",
       "      <td>2014</td>\n",
       "      <td>Whole Year</td>\n",
       "      <td>Sugarcane</td>\n",
       "      <td>324.0</td>\n",
       "      <td>16250.00</td>\n",
       "      <td>Commercial</td>\n",
       "      <td>5.070572e-01</td>\n",
       "      <td>1</td>\n",
       "    </tr>\n",
       "    <tr>\n",
       "      <th>246089</th>\n",
       "      <td>West Bengal</td>\n",
       "      <td>PURULIA</td>\n",
       "      <td>2014</td>\n",
       "      <td>Winter</td>\n",
       "      <td>Rice</td>\n",
       "      <td>279151.0</td>\n",
       "      <td>597899.00</td>\n",
       "      <td>Cereal</td>\n",
       "      <td>5.166076e-01</td>\n",
       "      <td>1</td>\n",
       "    </tr>\n",
       "  </tbody>\n",
       "</table>\n",
       "<p>97493 rows × 10 columns</p>\n",
       "</div>"
      ],
      "text/plain": [
       "                         State_Name District_Name  Crop_Year      Season  \\\n",
       "5       Andaman and Nicobar Islands      NICOBARS       2000  Whole Year   \n",
       "10      Andaman and Nicobar Islands      NICOBARS       2001      Kharif   \n",
       "14      Andaman and Nicobar Islands      NICOBARS       2001  Whole Year   \n",
       "18      Andaman and Nicobar Islands      NICOBARS       2002      Kharif   \n",
       "20      Andaman and Nicobar Islands      NICOBARS       2002  Whole Year   \n",
       "...                             ...           ...        ...         ...   \n",
       "246081                  West Bengal       PURULIA       2014        Rabi   \n",
       "246084                  West Bengal       PURULIA       2014        Rabi   \n",
       "246085                  West Bengal       PURULIA       2014      Summer   \n",
       "246088                  West Bengal       PURULIA       2014  Whole Year   \n",
       "246089                  West Bengal       PURULIA       2014      Winter   \n",
       "\n",
       "                     Crop      Area   Production   Crop_Type        scores  \\\n",
       "5                Coconut    18168.0  65100000.00        None  4.058091e-01   \n",
       "10               Arecanut    1254.0      2061.00        Nuts -5.500000e+09   \n",
       "14               Coconut    18190.0  64430000.00        None  4.256335e-01   \n",
       "18                   Rice     189.2       510.84      Cereal -1.436500e+09   \n",
       "20                 Banana     213.0      1278.00      Fruits  5.008363e-01   \n",
       "...                   ...       ...          ...         ...           ...   \n",
       "246081  Rapeseed &Mustard    1885.0      1508.00    oilseeds  5.002500e-01   \n",
       "246084              Wheat    1622.0      3663.00      Cereal  4.361391e-01   \n",
       "246085              Maize     325.0      2039.00      Cereal -5.625000e+09   \n",
       "246088          Sugarcane     324.0     16250.00  Commercial  5.070572e-01   \n",
       "246089               Rice  279151.0    597899.00      Cereal  5.166076e-01   \n",
       "\n",
       "        anomaly  \n",
       "5             1  \n",
       "10           -1  \n",
       "14            1  \n",
       "18           -1  \n",
       "20            1  \n",
       "...         ...  \n",
       "246081        1  \n",
       "246084        1  \n",
       "246085       -1  \n",
       "246088        1  \n",
       "246089        1  \n",
       "\n",
       "[97493 rows x 10 columns]"
      ]
     },
     "execution_count": 292,
     "metadata": {},
     "output_type": "execute_result"
    }
   ],
   "source": [
    "clean_df[((clean_df < lower_limit) | (clean_df > upper_limit)).any(axis=1)]"
   ]
  },
  {
   "cell_type": "code",
   "execution_count": 289,
   "id": "6cf195a0",
   "metadata": {
    "scrolled": true
   },
   "outputs": [
    {
     "name": "stderr",
     "output_type": "stream",
     "text": [
      "<ipython-input-289-3f3d2c2b471f>:1: FutureWarning: Automatic reindexing on DataFrame vs Series comparisons is deprecated and will raise ValueError in a future version.  Do `left, right = left.align(right, axis=1, copy=False)` before e.g. `left == right`\n",
      "  df_out = clean_df[~((clean_df < (Q1 - 1.5 * IQR)) |(clean_df > (Q3 + 1.5 * IQR))).any(axis=1)]\n",
      "<ipython-input-289-3f3d2c2b471f>:1: FutureWarning: Automatic reindexing on DataFrame vs Series comparisons is deprecated and will raise ValueError in a future version.  Do `left, right = left.align(right, axis=1, copy=False)` before e.g. `left == right`\n",
      "  df_out = clean_df[~((clean_df < (Q1 - 1.5 * IQR)) |(clean_df > (Q3 + 1.5 * IQR))).any(axis=1)]\n"
     ]
    },
    {
     "name": "stdout",
     "output_type": "stream",
     "text": [
      "(144868, 10)\n"
     ]
    }
   ],
   "source": [
    "df_out = clean_df[~((clean_df < (Q1 - 1.5 * IQR)) |(clean_df > (Q3 + 1.5 * IQR))).any(axis=1)]\n",
    "print(df_out.shape)"
   ]
  },
  {
   "cell_type": "markdown",
   "id": "1ba26513",
   "metadata": {},
   "source": [
    "### LocalOutlierFactor - Anamoly"
   ]
  },
  {
   "cell_type": "code",
   "execution_count": 293,
   "id": "ab430b65",
   "metadata": {},
   "outputs": [],
   "source": [
    "clean_df = df.copy()"
   ]
  },
  {
   "cell_type": "code",
   "execution_count": 294,
   "id": "f8d2ed16",
   "metadata": {},
   "outputs": [
    {
     "data": {
      "text/plain": [
       "LocalOutlierFactor(novelty=True)"
      ]
     },
     "execution_count": 294,
     "metadata": {},
     "output_type": "execute_result"
    }
   ],
   "source": [
    "model=LocalOutlierFactor(novelty=True)\n",
    "model.fit(clean_df[['Production']])"
   ]
  },
  {
   "cell_type": "code",
   "execution_count": 295,
   "id": "8b39f55e",
   "metadata": {},
   "outputs": [
    {
     "data": {
      "text/html": [
       "<div>\n",
       "<style scoped>\n",
       "    .dataframe tbody tr th:only-of-type {\n",
       "        vertical-align: middle;\n",
       "    }\n",
       "\n",
       "    .dataframe tbody tr th {\n",
       "        vertical-align: top;\n",
       "    }\n",
       "\n",
       "    .dataframe thead th {\n",
       "        text-align: right;\n",
       "    }\n",
       "</style>\n",
       "<table border=\"1\" class=\"dataframe\">\n",
       "  <thead>\n",
       "    <tr style=\"text-align: right;\">\n",
       "      <th></th>\n",
       "      <th>State_Name</th>\n",
       "      <th>District_Name</th>\n",
       "      <th>Crop_Year</th>\n",
       "      <th>Season</th>\n",
       "      <th>Crop</th>\n",
       "      <th>Area</th>\n",
       "      <th>Production</th>\n",
       "      <th>Crop_Type</th>\n",
       "      <th>scores</th>\n",
       "      <th>anomaly</th>\n",
       "    </tr>\n",
       "  </thead>\n",
       "  <tbody>\n",
       "    <tr>\n",
       "      <th>0</th>\n",
       "      <td>Andaman and Nicobar Islands</td>\n",
       "      <td>NICOBARS</td>\n",
       "      <td>2000</td>\n",
       "      <td>Kharif</td>\n",
       "      <td>Arecanut</td>\n",
       "      <td>1254.0</td>\n",
       "      <td>2000.0</td>\n",
       "      <td>Nuts</td>\n",
       "      <td>0.500000</td>\n",
       "      <td>1</td>\n",
       "    </tr>\n",
       "    <tr>\n",
       "      <th>1</th>\n",
       "      <td>Andaman and Nicobar Islands</td>\n",
       "      <td>NICOBARS</td>\n",
       "      <td>2000</td>\n",
       "      <td>Kharif</td>\n",
       "      <td>Other Kharif pulses</td>\n",
       "      <td>2.0</td>\n",
       "      <td>1.0</td>\n",
       "      <td>Pulses</td>\n",
       "      <td>0.500000</td>\n",
       "      <td>1</td>\n",
       "    </tr>\n",
       "    <tr>\n",
       "      <th>2</th>\n",
       "      <td>Andaman and Nicobar Islands</td>\n",
       "      <td>NICOBARS</td>\n",
       "      <td>2000</td>\n",
       "      <td>Kharif</td>\n",
       "      <td>Rice</td>\n",
       "      <td>102.0</td>\n",
       "      <td>321.0</td>\n",
       "      <td>Cereal</td>\n",
       "      <td>0.500000</td>\n",
       "      <td>1</td>\n",
       "    </tr>\n",
       "    <tr>\n",
       "      <th>3</th>\n",
       "      <td>Andaman and Nicobar Islands</td>\n",
       "      <td>NICOBARS</td>\n",
       "      <td>2000</td>\n",
       "      <td>Whole Year</td>\n",
       "      <td>Banana</td>\n",
       "      <td>176.0</td>\n",
       "      <td>641.0</td>\n",
       "      <td>Fruits</td>\n",
       "      <td>0.500000</td>\n",
       "      <td>1</td>\n",
       "    </tr>\n",
       "    <tr>\n",
       "      <th>4</th>\n",
       "      <td>Andaman and Nicobar Islands</td>\n",
       "      <td>NICOBARS</td>\n",
       "      <td>2000</td>\n",
       "      <td>Whole Year</td>\n",
       "      <td>Cashewnut</td>\n",
       "      <td>720.0</td>\n",
       "      <td>165.0</td>\n",
       "      <td>Nuts</td>\n",
       "      <td>0.500000</td>\n",
       "      <td>1</td>\n",
       "    </tr>\n",
       "    <tr>\n",
       "      <th>5</th>\n",
       "      <td>Andaman and Nicobar Islands</td>\n",
       "      <td>NICOBARS</td>\n",
       "      <td>2000</td>\n",
       "      <td>Whole Year</td>\n",
       "      <td>Coconut</td>\n",
       "      <td>18168.0</td>\n",
       "      <td>65100000.0</td>\n",
       "      <td>None</td>\n",
       "      <td>0.405809</td>\n",
       "      <td>1</td>\n",
       "    </tr>\n",
       "    <tr>\n",
       "      <th>6</th>\n",
       "      <td>Andaman and Nicobar Islands</td>\n",
       "      <td>NICOBARS</td>\n",
       "      <td>2000</td>\n",
       "      <td>Whole Year</td>\n",
       "      <td>Dry ginger</td>\n",
       "      <td>36.0</td>\n",
       "      <td>100.0</td>\n",
       "      <td>spices</td>\n",
       "      <td>0.500000</td>\n",
       "      <td>1</td>\n",
       "    </tr>\n",
       "    <tr>\n",
       "      <th>7</th>\n",
       "      <td>Andaman and Nicobar Islands</td>\n",
       "      <td>NICOBARS</td>\n",
       "      <td>2000</td>\n",
       "      <td>Whole Year</td>\n",
       "      <td>Sugarcane</td>\n",
       "      <td>1.0</td>\n",
       "      <td>2.0</td>\n",
       "      <td>Commercial</td>\n",
       "      <td>0.500000</td>\n",
       "      <td>1</td>\n",
       "    </tr>\n",
       "    <tr>\n",
       "      <th>8</th>\n",
       "      <td>Andaman and Nicobar Islands</td>\n",
       "      <td>NICOBARS</td>\n",
       "      <td>2000</td>\n",
       "      <td>Whole Year</td>\n",
       "      <td>Sweet potato</td>\n",
       "      <td>5.0</td>\n",
       "      <td>15.0</td>\n",
       "      <td>Vegetables</td>\n",
       "      <td>0.500000</td>\n",
       "      <td>1</td>\n",
       "    </tr>\n",
       "    <tr>\n",
       "      <th>9</th>\n",
       "      <td>Andaman and Nicobar Islands</td>\n",
       "      <td>NICOBARS</td>\n",
       "      <td>2000</td>\n",
       "      <td>Whole Year</td>\n",
       "      <td>Tapioca</td>\n",
       "      <td>40.0</td>\n",
       "      <td>169.0</td>\n",
       "      <td>Vegetables</td>\n",
       "      <td>0.500000</td>\n",
       "      <td>1</td>\n",
       "    </tr>\n",
       "  </tbody>\n",
       "</table>\n",
       "</div>"
      ],
      "text/plain": [
       "                    State_Name District_Name  Crop_Year      Season  \\\n",
       "0  Andaman and Nicobar Islands      NICOBARS       2000      Kharif   \n",
       "1  Andaman and Nicobar Islands      NICOBARS       2000      Kharif   \n",
       "2  Andaman and Nicobar Islands      NICOBARS       2000      Kharif   \n",
       "3  Andaman and Nicobar Islands      NICOBARS       2000  Whole Year   \n",
       "4  Andaman and Nicobar Islands      NICOBARS       2000  Whole Year   \n",
       "5  Andaman and Nicobar Islands      NICOBARS       2000  Whole Year   \n",
       "6  Andaman and Nicobar Islands      NICOBARS       2000  Whole Year   \n",
       "7  Andaman and Nicobar Islands      NICOBARS       2000  Whole Year   \n",
       "8  Andaman and Nicobar Islands      NICOBARS       2000  Whole Year   \n",
       "9  Andaman and Nicobar Islands      NICOBARS       2000  Whole Year   \n",
       "\n",
       "                  Crop     Area  Production   Crop_Type    scores  anomaly  \n",
       "0             Arecanut   1254.0      2000.0        Nuts  0.500000        1  \n",
       "1  Other Kharif pulses      2.0         1.0      Pulses  0.500000        1  \n",
       "2                 Rice    102.0       321.0      Cereal  0.500000        1  \n",
       "3               Banana    176.0       641.0      Fruits  0.500000        1  \n",
       "4            Cashewnut    720.0       165.0        Nuts  0.500000        1  \n",
       "5             Coconut   18168.0  65100000.0        None  0.405809        1  \n",
       "6           Dry ginger     36.0       100.0      spices  0.500000        1  \n",
       "7            Sugarcane      1.0         2.0  Commercial  0.500000        1  \n",
       "8         Sweet potato      5.0        15.0  Vegetables  0.500000        1  \n",
       "9              Tapioca     40.0       169.0  Vegetables  0.500000        1  "
      ]
     },
     "execution_count": 295,
     "metadata": {},
     "output_type": "execute_result"
    }
   ],
   "source": [
    "clean_df['scores'] = model.decision_function(clean_df[['Production']])\n",
    "clean_df['anomaly'] = model.predict(clean_df[['Production']])\n",
    "df.head(10)"
   ]
  },
  {
   "cell_type": "code",
   "execution_count": 296,
   "id": "dd6d8ebf",
   "metadata": {},
   "outputs": [
    {
     "data": {
      "text/plain": [
       "10382"
      ]
     },
     "execution_count": 296,
     "metadata": {},
     "output_type": "execute_result"
    }
   ],
   "source": [
    "len(clean_df[clean_df['anomaly'] == -1])"
   ]
  },
  {
   "cell_type": "code",
   "execution_count": 297,
   "id": "573b29d7",
   "metadata": {},
   "outputs": [
    {
     "data": {
      "text/html": [
       "<div>\n",
       "<style scoped>\n",
       "    .dataframe tbody tr th:only-of-type {\n",
       "        vertical-align: middle;\n",
       "    }\n",
       "\n",
       "    .dataframe tbody tr th {\n",
       "        vertical-align: top;\n",
       "    }\n",
       "\n",
       "    .dataframe thead th {\n",
       "        text-align: right;\n",
       "    }\n",
       "</style>\n",
       "<table border=\"1\" class=\"dataframe\">\n",
       "  <thead>\n",
       "    <tr style=\"text-align: right;\">\n",
       "      <th></th>\n",
       "      <th>State_Name</th>\n",
       "      <th>District_Name</th>\n",
       "      <th>Crop_Year</th>\n",
       "      <th>Season</th>\n",
       "      <th>Crop</th>\n",
       "      <th>Area</th>\n",
       "      <th>Production</th>\n",
       "      <th>Crop_Type</th>\n",
       "      <th>scores</th>\n",
       "      <th>anomaly</th>\n",
       "    </tr>\n",
       "  </thead>\n",
       "  <tbody>\n",
       "    <tr>\n",
       "      <th>10</th>\n",
       "      <td>Andaman and Nicobar Islands</td>\n",
       "      <td>NICOBARS</td>\n",
       "      <td>2001</td>\n",
       "      <td>Kharif</td>\n",
       "      <td>Arecanut</td>\n",
       "      <td>1254.00</td>\n",
       "      <td>2061.00</td>\n",
       "      <td>Nuts</td>\n",
       "      <td>-5.500000e+09</td>\n",
       "      <td>-1</td>\n",
       "    </tr>\n",
       "    <tr>\n",
       "      <th>18</th>\n",
       "      <td>Andaman and Nicobar Islands</td>\n",
       "      <td>NICOBARS</td>\n",
       "      <td>2002</td>\n",
       "      <td>Kharif</td>\n",
       "      <td>Rice</td>\n",
       "      <td>189.20</td>\n",
       "      <td>510.84</td>\n",
       "      <td>Cereal</td>\n",
       "      <td>-1.436500e+09</td>\n",
       "      <td>-1</td>\n",
       "    </tr>\n",
       "    <tr>\n",
       "      <th>24</th>\n",
       "      <td>Andaman and Nicobar Islands</td>\n",
       "      <td>NICOBARS</td>\n",
       "      <td>2002</td>\n",
       "      <td>Whole Year</td>\n",
       "      <td>Dry chillies</td>\n",
       "      <td>413.00</td>\n",
       "      <td>28.80</td>\n",
       "      <td>spices</td>\n",
       "      <td>-8.800000e+08</td>\n",
       "      <td>-1</td>\n",
       "    </tr>\n",
       "    <tr>\n",
       "      <th>27</th>\n",
       "      <td>Andaman and Nicobar Islands</td>\n",
       "      <td>NICOBARS</td>\n",
       "      <td>2003</td>\n",
       "      <td>Kharif</td>\n",
       "      <td>Rice</td>\n",
       "      <td>52.00</td>\n",
       "      <td>90.17</td>\n",
       "      <td>Cereal</td>\n",
       "      <td>-1.282500e+09</td>\n",
       "      <td>-1</td>\n",
       "    </tr>\n",
       "    <tr>\n",
       "      <th>30</th>\n",
       "      <td>Andaman and Nicobar Islands</td>\n",
       "      <td>NICOBARS</td>\n",
       "      <td>2003</td>\n",
       "      <td>Whole Year</td>\n",
       "      <td>Black pepper</td>\n",
       "      <td>75.50</td>\n",
       "      <td>15.86</td>\n",
       "      <td>spices</td>\n",
       "      <td>-7.290000e+08</td>\n",
       "      <td>-1</td>\n",
       "    </tr>\n",
       "    <tr>\n",
       "      <th>31</th>\n",
       "      <td>Andaman and Nicobar Islands</td>\n",
       "      <td>NICOBARS</td>\n",
       "      <td>2003</td>\n",
       "      <td>Whole Year</td>\n",
       "      <td>Cashewnut</td>\n",
       "      <td>717.00</td>\n",
       "      <td>208.50</td>\n",
       "      <td>Nuts</td>\n",
       "      <td>-2.760000e+09</td>\n",
       "      <td>-1</td>\n",
       "    </tr>\n",
       "    <tr>\n",
       "      <th>34</th>\n",
       "      <td>Andaman and Nicobar Islands</td>\n",
       "      <td>NICOBARS</td>\n",
       "      <td>2003</td>\n",
       "      <td>Whole Year</td>\n",
       "      <td>Dry ginger</td>\n",
       "      <td>102.00</td>\n",
       "      <td>326.40</td>\n",
       "      <td>spices</td>\n",
       "      <td>-3.120000e+09</td>\n",
       "      <td>-1</td>\n",
       "    </tr>\n",
       "    <tr>\n",
       "      <th>36</th>\n",
       "      <td>Andaman and Nicobar Islands</td>\n",
       "      <td>NICOBARS</td>\n",
       "      <td>2004</td>\n",
       "      <td>Kharif</td>\n",
       "      <td>Rice</td>\n",
       "      <td>52.94</td>\n",
       "      <td>72.57</td>\n",
       "      <td>Cereal</td>\n",
       "      <td>-1.584000e+09</td>\n",
       "      <td>-1</td>\n",
       "    </tr>\n",
       "    <tr>\n",
       "      <th>37</th>\n",
       "      <td>Andaman and Nicobar Islands</td>\n",
       "      <td>NICOBARS</td>\n",
       "      <td>2004</td>\n",
       "      <td>Whole Year</td>\n",
       "      <td>Arecanut</td>\n",
       "      <td>1264.70</td>\n",
       "      <td>805.85</td>\n",
       "      <td>Nuts</td>\n",
       "      <td>-1.425000e+09</td>\n",
       "      <td>-1</td>\n",
       "    </tr>\n",
       "    <tr>\n",
       "      <th>38</th>\n",
       "      <td>Andaman and Nicobar Islands</td>\n",
       "      <td>NICOBARS</td>\n",
       "      <td>2004</td>\n",
       "      <td>Whole Year</td>\n",
       "      <td>Banana</td>\n",
       "      <td>66.42</td>\n",
       "      <td>404.12</td>\n",
       "      <td>Fruits</td>\n",
       "      <td>-1.116000e+09</td>\n",
       "      <td>-1</td>\n",
       "    </tr>\n",
       "  </tbody>\n",
       "</table>\n",
       "</div>"
      ],
      "text/plain": [
       "                     State_Name District_Name  Crop_Year      Season  \\\n",
       "10  Andaman and Nicobar Islands      NICOBARS       2001      Kharif   \n",
       "18  Andaman and Nicobar Islands      NICOBARS       2002      Kharif   \n",
       "24  Andaman and Nicobar Islands      NICOBARS       2002  Whole Year   \n",
       "27  Andaman and Nicobar Islands      NICOBARS       2003      Kharif   \n",
       "30  Andaman and Nicobar Islands      NICOBARS       2003  Whole Year   \n",
       "31  Andaman and Nicobar Islands      NICOBARS       2003  Whole Year   \n",
       "34  Andaman and Nicobar Islands      NICOBARS       2003  Whole Year   \n",
       "36  Andaman and Nicobar Islands      NICOBARS       2004      Kharif   \n",
       "37  Andaman and Nicobar Islands      NICOBARS       2004  Whole Year   \n",
       "38  Andaman and Nicobar Islands      NICOBARS       2004  Whole Year   \n",
       "\n",
       "            Crop     Area  Production Crop_Type        scores  anomaly  \n",
       "10      Arecanut  1254.00     2061.00      Nuts -5.500000e+09       -1  \n",
       "18          Rice   189.20      510.84    Cereal -1.436500e+09       -1  \n",
       "24  Dry chillies   413.00       28.80    spices -8.800000e+08       -1  \n",
       "27          Rice    52.00       90.17    Cereal -1.282500e+09       -1  \n",
       "30  Black pepper    75.50       15.86    spices -7.290000e+08       -1  \n",
       "31     Cashewnut   717.00      208.50      Nuts -2.760000e+09       -1  \n",
       "34    Dry ginger   102.00      326.40    spices -3.120000e+09       -1  \n",
       "36          Rice    52.94       72.57    Cereal -1.584000e+09       -1  \n",
       "37      Arecanut  1264.70      805.85      Nuts -1.425000e+09       -1  \n",
       "38        Banana    66.42      404.12    Fruits -1.116000e+09       -1  "
      ]
     },
     "execution_count": 297,
     "metadata": {},
     "output_type": "execute_result"
    }
   ],
   "source": [
    "clean_df.loc[clean_df['anomaly'] == -1].head(10)"
   ]
  },
  {
   "cell_type": "code",
   "execution_count": 298,
   "id": "377ba7ca",
   "metadata": {},
   "outputs": [],
   "source": [
    "temp = clean_df[clean_df['anomaly'] == -1]"
   ]
  },
  {
   "cell_type": "code",
   "execution_count": 299,
   "id": "de905bb8",
   "metadata": {},
   "outputs": [
    {
     "data": {
      "text/plain": [
       "Odisha                         3653\n",
       "Uttar Pradesh                  1009\n",
       "Karnataka                       856\n",
       "Madhya Pradesh                  667\n",
       "Bihar                           593\n",
       "Assam                           440\n",
       "Tamil Nadu                      398\n",
       "Jammu and Kashmir               345\n",
       "Rajasthan                       340\n",
       "Andhra Pradesh                  323\n",
       "Kerala                          297\n",
       "West Bengal                     272\n",
       "Jharkhand                       270\n",
       "Telangana                       198\n",
       "Chhattisgarh                    183\n",
       "Uttarakhand                     123\n",
       "Meghalaya                        89\n",
       "Arunachal Pradesh                79\n",
       "Andaman and Nicobar Islands      55\n",
       "Himachal Pradesh                 44\n",
       "Maharashtra                      26\n",
       "Nagaland                         25\n",
       "Mizoram                          21\n",
       "Goa                              18\n",
       "Tripura                          16\n",
       "Manipur                          13\n",
       "Puducherry                       11\n",
       "Sikkim                            9\n",
       "Dadra and Nagar Haveli            6\n",
       "Gujarat                           3\n",
       "Name: State_Name, dtype: int64"
      ]
     },
     "execution_count": 299,
     "metadata": {},
     "output_type": "execute_result"
    }
   ],
   "source": [
    "temp['State_Name'].value_counts()"
   ]
  },
  {
   "cell_type": "code",
   "execution_count": 300,
   "id": "9f033b1c",
   "metadata": {},
   "outputs": [],
   "source": [
    "anomaly_df = clean_df.copy()"
   ]
  },
  {
   "cell_type": "markdown",
   "id": "2f7d17a4",
   "metadata": {},
   "source": [
    "### z-score"
   ]
  },
  {
   "cell_type": "code",
   "execution_count": 257,
   "id": "2e5029bb",
   "metadata": {},
   "outputs": [],
   "source": [
    "clean_df = df.copy()"
   ]
  },
  {
   "cell_type": "code",
   "execution_count": 260,
   "id": "27b3fee1",
   "metadata": {},
   "outputs": [
    {
     "data": {
      "text/html": [
       "<div>\n",
       "<style scoped>\n",
       "    .dataframe tbody tr th:only-of-type {\n",
       "        vertical-align: middle;\n",
       "    }\n",
       "\n",
       "    .dataframe tbody tr th {\n",
       "        vertical-align: top;\n",
       "    }\n",
       "\n",
       "    .dataframe thead th {\n",
       "        text-align: right;\n",
       "    }\n",
       "</style>\n",
       "<table border=\"1\" class=\"dataframe\">\n",
       "  <thead>\n",
       "    <tr style=\"text-align: right;\">\n",
       "      <th></th>\n",
       "      <th>State_Name</th>\n",
       "      <th>Production</th>\n",
       "    </tr>\n",
       "  </thead>\n",
       "  <tbody>\n",
       "    <tr>\n",
       "      <th>15</th>\n",
       "      <td>Kerala</td>\n",
       "      <td>2.445167e+07</td>\n",
       "    </tr>\n",
       "    <tr>\n",
       "      <th>0</th>\n",
       "      <td>Andaman and Nicobar Islands</td>\n",
       "      <td>3.573250e+06</td>\n",
       "    </tr>\n",
       "    <tr>\n",
       "      <th>8</th>\n",
       "      <td>Goa</td>\n",
       "      <td>2.443265e+06</td>\n",
       "    </tr>\n",
       "    <tr>\n",
       "      <th>1</th>\n",
       "      <td>Andhra Pradesh</td>\n",
       "      <td>1.812006e+06</td>\n",
       "    </tr>\n",
       "    <tr>\n",
       "      <th>27</th>\n",
       "      <td>Tamil Nadu</td>\n",
       "      <td>9.103304e+05</td>\n",
       "    </tr>\n",
       "  </tbody>\n",
       "</table>\n",
       "</div>"
      ],
      "text/plain": [
       "                     State_Name    Production\n",
       "15                       Kerala  2.445167e+07\n",
       "0   Andaman and Nicobar Islands  3.573250e+06\n",
       "8                           Goa  2.443265e+06\n",
       "1                Andhra Pradesh  1.812006e+06\n",
       "27                   Tamil Nadu  9.103304e+05"
      ]
     },
     "execution_count": 260,
     "metadata": {},
     "output_type": "execute_result"
    }
   ],
   "source": [
    "clean_df = clean_df.groupby('State_Name')['Production'].mean().reset_index().sort_values(by='Production', ascending=False)\n",
    "clean_df.head()"
   ]
  },
  {
   "cell_type": "code",
   "execution_count": 262,
   "id": "910a3019",
   "metadata": {},
   "outputs": [
    {
     "data": {
      "text/plain": [
       "Production    4.273836e+06\n",
       "dtype: float64"
      ]
     },
     "execution_count": 262,
     "metadata": {},
     "output_type": "execute_result"
    }
   ],
   "source": [
    "clean_df.std()"
   ]
  },
  {
   "cell_type": "code",
   "execution_count": 263,
   "id": "142792a8",
   "metadata": {},
   "outputs": [],
   "source": [
    "clean_df['z_score'] = (clean_df['Production'] - clean_df['Production'].mean()) / clean_df['Production'].std()"
   ]
  },
  {
   "cell_type": "code",
   "execution_count": 264,
   "id": "535e7d6f",
   "metadata": {},
   "outputs": [
    {
     "data": {
      "text/html": [
       "<div>\n",
       "<style scoped>\n",
       "    .dataframe tbody tr th:only-of-type {\n",
       "        vertical-align: middle;\n",
       "    }\n",
       "\n",
       "    .dataframe tbody tr th {\n",
       "        vertical-align: top;\n",
       "    }\n",
       "\n",
       "    .dataframe thead th {\n",
       "        text-align: right;\n",
       "    }\n",
       "</style>\n",
       "<table border=\"1\" class=\"dataframe\">\n",
       "  <thead>\n",
       "    <tr style=\"text-align: right;\">\n",
       "      <th></th>\n",
       "      <th>State_Name</th>\n",
       "      <th>Production</th>\n",
       "      <th>z_score</th>\n",
       "    </tr>\n",
       "  </thead>\n",
       "  <tbody>\n",
       "    <tr>\n",
       "      <th>15</th>\n",
       "      <td>Kerala</td>\n",
       "      <td>2.445167e+07</td>\n",
       "      <td>5.475026</td>\n",
       "    </tr>\n",
       "    <tr>\n",
       "      <th>0</th>\n",
       "      <td>Andaman and Nicobar Islands</td>\n",
       "      <td>3.573250e+06</td>\n",
       "      <td>0.589855</td>\n",
       "    </tr>\n",
       "    <tr>\n",
       "      <th>8</th>\n",
       "      <td>Goa</td>\n",
       "      <td>2.443265e+06</td>\n",
       "      <td>0.325459</td>\n",
       "    </tr>\n",
       "    <tr>\n",
       "      <th>1</th>\n",
       "      <td>Andhra Pradesh</td>\n",
       "      <td>1.812006e+06</td>\n",
       "      <td>0.177756</td>\n",
       "    </tr>\n",
       "    <tr>\n",
       "      <th>27</th>\n",
       "      <td>Tamil Nadu</td>\n",
       "      <td>9.103304e+05</td>\n",
       "      <td>-0.033220</td>\n",
       "    </tr>\n",
       "    <tr>\n",
       "      <th>23</th>\n",
       "      <td>Puducherry</td>\n",
       "      <td>4.411978e+05</td>\n",
       "      <td>-0.142988</td>\n",
       "    </tr>\n",
       "    <tr>\n",
       "      <th>24</th>\n",
       "      <td>Punjab</td>\n",
       "      <td>1.865686e+05</td>\n",
       "      <td>-0.202567</td>\n",
       "    </tr>\n",
       "    <tr>\n",
       "      <th>32</th>\n",
       "      <td>West Bengal</td>\n",
       "      <td>1.456606e+05</td>\n",
       "      <td>-0.212139</td>\n",
       "    </tr>\n",
       "    <tr>\n",
       "      <th>3</th>\n",
       "      <td>Assam</td>\n",
       "      <td>1.444229e+05</td>\n",
       "      <td>-0.212428</td>\n",
       "    </tr>\n",
       "    <tr>\n",
       "      <th>17</th>\n",
       "      <td>Maharashtra</td>\n",
       "      <td>1.011236e+05</td>\n",
       "      <td>-0.222560</td>\n",
       "    </tr>\n",
       "  </tbody>\n",
       "</table>\n",
       "</div>"
      ],
      "text/plain": [
       "                     State_Name    Production   z_score\n",
       "15                       Kerala  2.445167e+07  5.475026\n",
       "0   Andaman and Nicobar Islands  3.573250e+06  0.589855\n",
       "8                           Goa  2.443265e+06  0.325459\n",
       "1                Andhra Pradesh  1.812006e+06  0.177756\n",
       "27                   Tamil Nadu  9.103304e+05 -0.033220\n",
       "23                   Puducherry  4.411978e+05 -0.142988\n",
       "24                       Punjab  1.865686e+05 -0.202567\n",
       "32                  West Bengal  1.456606e+05 -0.212139\n",
       "3                         Assam  1.444229e+05 -0.212428\n",
       "17                  Maharashtra  1.011236e+05 -0.222560"
      ]
     },
     "execution_count": 264,
     "metadata": {},
     "output_type": "execute_result"
    }
   ],
   "source": [
    "clean_df.head(10)"
   ]
  },
  {
   "cell_type": "code",
   "execution_count": 265,
   "id": "bcf957de",
   "metadata": {},
   "outputs": [
    {
     "data": {
      "text/html": [
       "<div>\n",
       "<style scoped>\n",
       "    .dataframe tbody tr th:only-of-type {\n",
       "        vertical-align: middle;\n",
       "    }\n",
       "\n",
       "    .dataframe tbody tr th {\n",
       "        vertical-align: top;\n",
       "    }\n",
       "\n",
       "    .dataframe thead th {\n",
       "        text-align: right;\n",
       "    }\n",
       "</style>\n",
       "<table border=\"1\" class=\"dataframe\">\n",
       "  <thead>\n",
       "    <tr style=\"text-align: right;\">\n",
       "      <th></th>\n",
       "      <th>State_Name</th>\n",
       "      <th>Production</th>\n",
       "      <th>z_score</th>\n",
       "    </tr>\n",
       "  </thead>\n",
       "  <tbody>\n",
       "    <tr>\n",
       "      <th>15</th>\n",
       "      <td>Kerala</td>\n",
       "      <td>2.445167e+07</td>\n",
       "      <td>5.475026</td>\n",
       "    </tr>\n",
       "  </tbody>\n",
       "</table>\n",
       "</div>"
      ],
      "text/plain": [
       "   State_Name    Production   z_score\n",
       "15     Kerala  2.445167e+07  5.475026"
      ]
     },
     "execution_count": 265,
     "metadata": {},
     "output_type": "execute_result"
    }
   ],
   "source": [
    "clean_df[clean_df['z_score'] > 3]"
   ]
  },
  {
   "cell_type": "code",
   "execution_count": 266,
   "id": "cc4fca93",
   "metadata": {},
   "outputs": [
    {
     "data": {
      "text/html": [
       "<div>\n",
       "<style scoped>\n",
       "    .dataframe tbody tr th:only-of-type {\n",
       "        vertical-align: middle;\n",
       "    }\n",
       "\n",
       "    .dataframe tbody tr th {\n",
       "        vertical-align: top;\n",
       "    }\n",
       "\n",
       "    .dataframe thead th {\n",
       "        text-align: right;\n",
       "    }\n",
       "</style>\n",
       "<table border=\"1\" class=\"dataframe\">\n",
       "  <thead>\n",
       "    <tr style=\"text-align: right;\">\n",
       "      <th></th>\n",
       "      <th>State_Name</th>\n",
       "      <th>Production</th>\n",
       "      <th>z_score</th>\n",
       "    </tr>\n",
       "  </thead>\n",
       "  <tbody>\n",
       "  </tbody>\n",
       "</table>\n",
       "</div>"
      ],
      "text/plain": [
       "Empty DataFrame\n",
       "Columns: [State_Name, Production, z_score]\n",
       "Index: []"
      ]
     },
     "execution_count": 266,
     "metadata": {},
     "output_type": "execute_result"
    }
   ],
   "source": [
    "clean_df[clean_df['z_score'] < -3]"
   ]
  },
  {
   "cell_type": "code",
   "execution_count": 267,
   "id": "18d5af42",
   "metadata": {},
   "outputs": [
    {
     "data": {
      "text/plain": [
       "24451672.58948291"
      ]
     },
     "execution_count": 267,
     "metadata": {},
     "output_type": "execute_result"
    }
   ],
   "source": [
    "max_threshold = clean_df[clean_df['z_score'] > 3]['Production'].mean()\n",
    "max_threshold"
   ]
  },
  {
   "cell_type": "code",
   "execution_count": 271,
   "id": "8fe6dceb",
   "metadata": {},
   "outputs": [
    {
     "data": {
      "text/plain": [
       "State_Name  District_Name  Crop_Year  Season      Crop       Area     Production  Crop_Type   scores    anomaly\n",
       "Tamil Nadu  CUDDALORE      1997       Whole Year  Sugarcane  23826.0  28322000.0  Commercial  0.495336  1          1\n",
       "            ERODE          1997       Whole Year  Sugarcane  24112.0  26930000.0  Commercial  0.509559  1          1\n",
       "            VILLUPURAM     1997       Whole Year  Sugarcane  33175.0  37158000.0  Commercial  0.520454  1          1\n",
       "dtype: int64"
      ]
     },
     "execution_count": 271,
     "metadata": {},
     "output_type": "execute_result"
    }
   ],
   "source": [
    "temp = df[df['Production'] > max_threshold]\n",
    "temp.value_counts()"
   ]
  },
  {
   "cell_type": "markdown",
   "id": "4af94acf",
   "metadata": {},
   "source": [
    "### Inference on checking the outliers\n",
    "+ IQR method almost removes half of the data\n",
    "+ Z-SCORE romoves only few\n",
    "+ LocalOutlierFactor removes some of the anomalys, So it can be used ✅"
   ]
  },
  {
   "cell_type": "code",
   "execution_count": null,
   "id": "ec0bffd5",
   "metadata": {},
   "outputs": [],
   "source": [
    "df_no_anomaly = anomaly_df[anomaly_df['an']]"
   ]
  }
 ],
 "metadata": {
  "kernelspec": {
   "display_name": "Python 3",
   "language": "python",
   "name": "python3"
  },
  "language_info": {
   "codemirror_mode": {
    "name": "ipython",
    "version": 3
   },
   "file_extension": ".py",
   "mimetype": "text/x-python",
   "name": "python",
   "nbconvert_exporter": "python",
   "pygments_lexer": "ipython3",
   "version": "3.8.8"
  }
 },
 "nbformat": 4,
 "nbformat_minor": 5
}
