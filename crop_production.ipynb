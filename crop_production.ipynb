{
 "cells": [
  {
   "cell_type": "markdown",
   "id": "c9ae0720",
   "metadata": {},
   "source": [
    "# Intelligent Crop Recommendation System"
   ]
  },
  {
   "cell_type": "code",
   "execution_count": 1,
   "id": "02d6f5b8",
   "metadata": {},
   "outputs": [],
   "source": [
    "import pandas as pd\n",
    "import numpy as np\n",
    "import matplotlib.pyplot as plt\n",
    "import seaborn as sns\n",
    "%matplotlib inline"
   ]
  },
  {
   "cell_type": "markdown",
   "id": "c6891d20",
   "metadata": {},
   "source": [
    "### Crop Production dataset"
   ]
  },
  {
   "cell_type": "code",
   "execution_count": 2,
   "id": "58da980c",
   "metadata": {},
   "outputs": [],
   "source": [
    "df = pd.read_csv('crop_production.csv')"
   ]
  },
  {
   "cell_type": "code",
   "execution_count": 3,
   "id": "89a05e17",
   "metadata": {},
   "outputs": [
    {
     "data": {
      "text/html": [
       "<div>\n",
       "<style scoped>\n",
       "    .dataframe tbody tr th:only-of-type {\n",
       "        vertical-align: middle;\n",
       "    }\n",
       "\n",
       "    .dataframe tbody tr th {\n",
       "        vertical-align: top;\n",
       "    }\n",
       "\n",
       "    .dataframe thead th {\n",
       "        text-align: right;\n",
       "    }\n",
       "</style>\n",
       "<table border=\"1\" class=\"dataframe\">\n",
       "  <thead>\n",
       "    <tr style=\"text-align: right;\">\n",
       "      <th></th>\n",
       "      <th>State_Name</th>\n",
       "      <th>District_Name</th>\n",
       "      <th>Crop_Year</th>\n",
       "      <th>Season</th>\n",
       "      <th>Crop</th>\n",
       "      <th>Area</th>\n",
       "      <th>Production</th>\n",
       "    </tr>\n",
       "  </thead>\n",
       "  <tbody>\n",
       "    <tr>\n",
       "      <th>0</th>\n",
       "      <td>Andaman and Nicobar Islands</td>\n",
       "      <td>NICOBARS</td>\n",
       "      <td>2000</td>\n",
       "      <td>Kharif</td>\n",
       "      <td>Arecanut</td>\n",
       "      <td>1254.0</td>\n",
       "      <td>2000.0</td>\n",
       "    </tr>\n",
       "    <tr>\n",
       "      <th>1</th>\n",
       "      <td>Andaman and Nicobar Islands</td>\n",
       "      <td>NICOBARS</td>\n",
       "      <td>2000</td>\n",
       "      <td>Kharif</td>\n",
       "      <td>Other Kharif pulses</td>\n",
       "      <td>2.0</td>\n",
       "      <td>1.0</td>\n",
       "    </tr>\n",
       "    <tr>\n",
       "      <th>2</th>\n",
       "      <td>Andaman and Nicobar Islands</td>\n",
       "      <td>NICOBARS</td>\n",
       "      <td>2000</td>\n",
       "      <td>Kharif</td>\n",
       "      <td>Rice</td>\n",
       "      <td>102.0</td>\n",
       "      <td>321.0</td>\n",
       "    </tr>\n",
       "    <tr>\n",
       "      <th>3</th>\n",
       "      <td>Andaman and Nicobar Islands</td>\n",
       "      <td>NICOBARS</td>\n",
       "      <td>2000</td>\n",
       "      <td>Whole Year</td>\n",
       "      <td>Banana</td>\n",
       "      <td>176.0</td>\n",
       "      <td>641.0</td>\n",
       "    </tr>\n",
       "    <tr>\n",
       "      <th>4</th>\n",
       "      <td>Andaman and Nicobar Islands</td>\n",
       "      <td>NICOBARS</td>\n",
       "      <td>2000</td>\n",
       "      <td>Whole Year</td>\n",
       "      <td>Cashewnut</td>\n",
       "      <td>720.0</td>\n",
       "      <td>165.0</td>\n",
       "    </tr>\n",
       "  </tbody>\n",
       "</table>\n",
       "</div>"
      ],
      "text/plain": [
       "                    State_Name District_Name  Crop_Year       Season  \\\n",
       "0  Andaman and Nicobar Islands      NICOBARS       2000  Kharif        \n",
       "1  Andaman and Nicobar Islands      NICOBARS       2000  Kharif        \n",
       "2  Andaman and Nicobar Islands      NICOBARS       2000  Kharif        \n",
       "3  Andaman and Nicobar Islands      NICOBARS       2000  Whole Year    \n",
       "4  Andaman and Nicobar Islands      NICOBARS       2000  Whole Year    \n",
       "\n",
       "                  Crop    Area  Production  \n",
       "0             Arecanut  1254.0      2000.0  \n",
       "1  Other Kharif pulses     2.0         1.0  \n",
       "2                 Rice   102.0       321.0  \n",
       "3               Banana   176.0       641.0  \n",
       "4            Cashewnut   720.0       165.0  "
      ]
     },
     "execution_count": 3,
     "metadata": {},
     "output_type": "execute_result"
    }
   ],
   "source": [
    "df.head()"
   ]
  },
  {
   "cell_type": "code",
   "execution_count": 4,
   "id": "869b74bf",
   "metadata": {},
   "outputs": [
    {
     "data": {
      "text/html": [
       "<div>\n",
       "<style scoped>\n",
       "    .dataframe tbody tr th:only-of-type {\n",
       "        vertical-align: middle;\n",
       "    }\n",
       "\n",
       "    .dataframe tbody tr th {\n",
       "        vertical-align: top;\n",
       "    }\n",
       "\n",
       "    .dataframe thead th {\n",
       "        text-align: right;\n",
       "    }\n",
       "</style>\n",
       "<table border=\"1\" class=\"dataframe\">\n",
       "  <thead>\n",
       "    <tr style=\"text-align: right;\">\n",
       "      <th></th>\n",
       "      <th>State_Name</th>\n",
       "      <th>District_Name</th>\n",
       "      <th>Crop_Year</th>\n",
       "      <th>Season</th>\n",
       "      <th>Crop</th>\n",
       "      <th>Area</th>\n",
       "      <th>Production</th>\n",
       "    </tr>\n",
       "  </thead>\n",
       "  <tbody>\n",
       "    <tr>\n",
       "      <th>246086</th>\n",
       "      <td>West Bengal</td>\n",
       "      <td>PURULIA</td>\n",
       "      <td>2014</td>\n",
       "      <td>Summer</td>\n",
       "      <td>Rice</td>\n",
       "      <td>306.0</td>\n",
       "      <td>801.0</td>\n",
       "    </tr>\n",
       "    <tr>\n",
       "      <th>246087</th>\n",
       "      <td>West Bengal</td>\n",
       "      <td>PURULIA</td>\n",
       "      <td>2014</td>\n",
       "      <td>Summer</td>\n",
       "      <td>Sesamum</td>\n",
       "      <td>627.0</td>\n",
       "      <td>463.0</td>\n",
       "    </tr>\n",
       "    <tr>\n",
       "      <th>246088</th>\n",
       "      <td>West Bengal</td>\n",
       "      <td>PURULIA</td>\n",
       "      <td>2014</td>\n",
       "      <td>Whole Year</td>\n",
       "      <td>Sugarcane</td>\n",
       "      <td>324.0</td>\n",
       "      <td>16250.0</td>\n",
       "    </tr>\n",
       "    <tr>\n",
       "      <th>246089</th>\n",
       "      <td>West Bengal</td>\n",
       "      <td>PURULIA</td>\n",
       "      <td>2014</td>\n",
       "      <td>Winter</td>\n",
       "      <td>Rice</td>\n",
       "      <td>279151.0</td>\n",
       "      <td>597899.0</td>\n",
       "    </tr>\n",
       "    <tr>\n",
       "      <th>246090</th>\n",
       "      <td>West Bengal</td>\n",
       "      <td>PURULIA</td>\n",
       "      <td>2014</td>\n",
       "      <td>Winter</td>\n",
       "      <td>Sesamum</td>\n",
       "      <td>175.0</td>\n",
       "      <td>88.0</td>\n",
       "    </tr>\n",
       "  </tbody>\n",
       "</table>\n",
       "</div>"
      ],
      "text/plain": [
       "         State_Name District_Name  Crop_Year       Season       Crop  \\\n",
       "246086  West Bengal       PURULIA       2014  Summer            Rice   \n",
       "246087  West Bengal       PURULIA       2014  Summer         Sesamum   \n",
       "246088  West Bengal       PURULIA       2014  Whole Year   Sugarcane   \n",
       "246089  West Bengal       PURULIA       2014  Winter            Rice   \n",
       "246090  West Bengal       PURULIA       2014  Winter         Sesamum   \n",
       "\n",
       "            Area  Production  \n",
       "246086     306.0       801.0  \n",
       "246087     627.0       463.0  \n",
       "246088     324.0     16250.0  \n",
       "246089  279151.0    597899.0  \n",
       "246090     175.0        88.0  "
      ]
     },
     "execution_count": 4,
     "metadata": {},
     "output_type": "execute_result"
    }
   ],
   "source": [
    "df.tail()"
   ]
  },
  {
   "cell_type": "code",
   "execution_count": 6,
   "id": "ac6eca7a",
   "metadata": {},
   "outputs": [
    {
     "data": {
      "text/plain": [
       "(246091, 7)"
      ]
     },
     "execution_count": 6,
     "metadata": {},
     "output_type": "execute_result"
    }
   ],
   "source": [
    "df.shape"
   ]
  },
  {
   "cell_type": "code",
   "execution_count": 7,
   "id": "730df6c0",
   "metadata": {},
   "outputs": [
    {
     "data": {
      "text/plain": [
       "State_Name        object\n",
       "District_Name     object\n",
       "Crop_Year          int64\n",
       "Season            object\n",
       "Crop              object\n",
       "Area             float64\n",
       "Production       float64\n",
       "dtype: object"
      ]
     },
     "execution_count": 7,
     "metadata": {},
     "output_type": "execute_result"
    }
   ],
   "source": [
    "df.dtypes"
   ]
  },
  {
   "cell_type": "markdown",
   "id": "a6178207",
   "metadata": {},
   "source": [
    "### Removing null values"
   ]
  },
  {
   "cell_type": "code",
   "execution_count": 8,
   "id": "09831ab1",
   "metadata": {},
   "outputs": [
    {
     "data": {
      "text/plain": [
       "State_Name          0\n",
       "District_Name       0\n",
       "Crop_Year           0\n",
       "Season              0\n",
       "Crop                0\n",
       "Area                0\n",
       "Production       3730\n",
       "dtype: int64"
      ]
     },
     "execution_count": 8,
     "metadata": {},
     "output_type": "execute_result"
    }
   ],
   "source": [
    "df.isnull().sum()"
   ]
  },
  {
   "cell_type": "code",
   "execution_count": 15,
   "id": "6c4481ef",
   "metadata": {},
   "outputs": [
    {
     "name": "stdout",
     "output_type": "stream",
     "text": [
      "1.5156994770227274%"
     ]
    }
   ],
   "source": [
    "null_percentage = (df.isnull().sum()['Production'] / df.shape[0]) * 100\n",
    "print(null_percentage, end='%')"
   ]
  },
  {
   "cell_type": "code",
   "execution_count": 18,
   "id": "08432ce7",
   "metadata": {},
   "outputs": [],
   "source": [
    "df.dropna(subset=['Production'], axis='rows', inplace=True)"
   ]
  },
  {
   "cell_type": "code",
   "execution_count": 19,
   "id": "4ffb39d5",
   "metadata": {},
   "outputs": [
    {
     "data": {
      "text/plain": [
       "(242361, 7)"
      ]
     },
     "execution_count": 19,
     "metadata": {},
     "output_type": "execute_result"
    }
   ],
   "source": [
    "df.shape"
   ]
  },
  {
   "cell_type": "code",
   "execution_count": 20,
   "id": "b1c16915",
   "metadata": {},
   "outputs": [
    {
     "data": {
      "text/plain": [
       "State_Name       0\n",
       "District_Name    0\n",
       "Crop_Year        0\n",
       "Season           0\n",
       "Crop             0\n",
       "Area             0\n",
       "Production       0\n",
       "dtype: int64"
      ]
     },
     "execution_count": 20,
     "metadata": {},
     "output_type": "execute_result"
    }
   ],
   "source": [
    "df.isnull().sum()"
   ]
  },
  {
   "cell_type": "markdown",
   "id": "f277b594",
   "metadata": {},
   "source": [
    "### Checking for correlation"
   ]
  },
  {
   "cell_type": "code",
   "execution_count": 30,
   "id": "d1f91581",
   "metadata": {},
   "outputs": [
    {
     "data": {
      "text/plain": [
       "<AxesSubplot:>"
      ]
     },
     "execution_count": 30,
     "metadata": {},
     "output_type": "execute_result"
    },
    {
     "data": {
      "image/png": "[encoded data removed]",
      "text/plain": [
       "<Figure size 432x288 with 2 Axes>"
      ]
     },
     "metadata": {
      "needs_background": "light"
     },
     "output_type": "display_data"
    }
   ],
   "source": [
    "sns.heatmap(df.corr(), cmap=\"GnBu\", annot=True)"
   ]
  },
  {
   "cell_type": "markdown",
   "id": "b1199fcc",
   "metadata": {},
   "source": [
    "No highly correlated values"
   ]
  },
  {
   "cell_type": "code",
   "execution_count": 31,
   "id": "02193e23",
   "metadata": {},
   "outputs": [
    {
     "data": {
      "text/plain": [
       "Uttar Pradesh                  33189\n",
       "Madhya Pradesh                 22604\n",
       "Karnataka                      21079\n",
       "Bihar                          18874\n",
       "Assam                          14622\n",
       "Odisha                         13524\n",
       "Tamil Nadu                     13266\n",
       "Maharashtra                    12496\n",
       "Rajasthan                      12066\n",
       "Chhattisgarh                   10368\n",
       "West Bengal                     9597\n",
       "Andhra Pradesh                  9561\n",
       "Gujarat                         8365\n",
       "Telangana                       5591\n",
       "Uttarakhand                     4825\n",
       "Haryana                         4540\n",
       "Kerala                          4003\n",
       "Nagaland                        3904\n",
       "Punjab                          3143\n",
       "Meghalaya                       2867\n",
       "Arunachal Pradesh               2545\n",
       "Himachal Pradesh                2456\n",
       "Jammu and Kashmir               1632\n",
       "Tripura                         1412\n",
       "Jharkhand                       1266\n",
       "Manipur                         1266\n",
       "Mizoram                          954\n",
       "Puducherry                       872\n",
       "Sikkim                           714\n",
       "Dadra and Nagar Haveli           263\n",
       "Goa                              207\n",
       "Andaman and Nicobar Islands      201\n",
       "Chandigarh                        89\n",
       "Name: State_Name, dtype: int64"
      ]
     },
     "execution_count": 31,
     "metadata": {},
     "output_type": "execute_result"
    }
   ],
   "source": [
    "df['State_Name'].value_counts()"
   ]
  },
  {
   "cell_type": "code",
   "execution_count": 36,
   "id": "0d04f7da",
   "metadata": {},
   "outputs": [
    {
     "data": {
      "text/plain": [
       "33"
      ]
     },
     "execution_count": 36,
     "metadata": {},
     "output_type": "execute_result"
    }
   ],
   "source": [
    "df['State_Name'].nunique()"
   ]
  },
  {
   "cell_type": "code",
   "execution_count": 32,
   "id": "59d1dee6",
   "metadata": {
    "scrolled": true
   },
   "outputs": [
    {
     "data": {
      "text/plain": [
       "TUMKUR       931\n",
       "BELGAUM      924\n",
       "BIJAPUR      905\n",
       "HASSAN       895\n",
       "BELLARY      887\n",
       "            ... \n",
       "HYDERABAD      8\n",
       "RAMGARH        6\n",
       "KHUNTI         6\n",
       "NAMSAI         1\n",
       "MUMBAI         1\n",
       "Name: District_Name, Length: 646, dtype: int64"
      ]
     },
     "execution_count": 32,
     "metadata": {},
     "output_type": "execute_result"
    }
   ],
   "source": [
    "df['District_Name'].value_counts()"
   ]
  },
  {
   "cell_type": "code",
   "execution_count": 35,
   "id": "c97baf0a",
   "metadata": {},
   "outputs": [
    {
     "data": {
      "text/plain": [
       "646"
      ]
     },
     "execution_count": 35,
     "metadata": {},
     "output_type": "execute_result"
    }
   ],
   "source": [
    "df['District_Name'].nunique()"
   ]
  },
  {
   "cell_type": "code",
   "execution_count": 39,
   "id": "ade288b4",
   "metadata": {},
   "outputs": [
    {
     "name": "stdout",
     "output_type": "stream",
     "text": [
      "Year Range: 1997 - 2015\n",
      "2003    17139\n",
      "2002    16536\n",
      "2007    14269\n",
      "2008    14230\n",
      "2006    13976\n",
      "2004    13858\n",
      "2010    13793\n",
      "2011    13791\n",
      "2009    13767\n",
      "2000    13553\n",
      "2005    13519\n",
      "2013    13475\n",
      "2001    13293\n",
      "2012    13184\n",
      "1999    12441\n",
      "1998    11262\n",
      "2014    10815\n",
      "1997     8899\n",
      "2015      561\n",
      "Name: Crop_Year, dtype: int64\n"
     ]
    }
   ],
   "source": [
    "print(\"Year Range:\", df['Crop_Year'].min(), \"-\", df['Crop_Year'].max())\n",
    "print(df['Crop_Year'].value_counts())"
   ]
  },
  {
   "cell_type": "code",
   "execution_count": 42,
   "id": "e9b6eabf",
   "metadata": {},
   "outputs": [
    {
     "name": "stdout",
     "output_type": "stream",
     "text": [
      "Unique Crops: 124\n"
     ]
    },
    {
     "data": {
      "text/plain": [
       "array(['Arecanut', 'Other Kharif pulses', 'Rice', 'Banana', 'Cashewnut',\n",
       "       'Coconut ', 'Dry ginger', 'Sugarcane', 'Sweet potato', 'Tapioca',\n",
       "       'Black pepper', 'Dry chillies', 'other oilseeds', 'Turmeric',\n",
       "       'Maize', 'Moong(Green Gram)', 'Urad', 'Arhar/Tur', 'Groundnut',\n",
       "       'Sunflower', 'Bajra', 'Castor seed', 'Cotton(lint)', 'Horse-gram',\n",
       "       'Jowar', 'Korra', 'Ragi', 'Tobacco', 'Gram', 'Wheat', 'Masoor',\n",
       "       'Sesamum', 'Linseed', 'Safflower', 'Onion', 'other misc. pulses',\n",
       "       'Samai', 'Small millets', 'Coriander', 'Potato',\n",
       "       'Other  Rabi pulses', 'Soyabean', 'Beans & Mutter(Vegetable)',\n",
       "       'Bhindi', 'Brinjal', 'Citrus Fruit', 'Cucumber', 'Grapes', 'Mango',\n",
       "       'Orange', 'other fibres', 'Other Fresh Fruits', 'Other Vegetables',\n",
       "       'Papaya', 'Pome Fruit', 'Tomato', 'Mesta', 'Cowpea(Lobia)',\n",
       "       'Lemon', 'Pome Granet', 'Sapota', 'Cabbage', 'Rapeseed &Mustard',\n",
       "       'Peas  (vegetable)', 'Niger seed', 'Bottle Gourd', 'Varagu',\n",
       "       'Garlic', 'Ginger', 'Oilseeds total', 'Pulses total', 'Jute',\n",
       "       'Peas & beans (Pulses)', 'Blackgram', 'Paddy', 'Pineapple',\n",
       "       'Barley', 'Sannhamp', 'Khesari', 'Guar seed', 'Moth',\n",
       "       'Other Cereals & Millets', 'Cond-spcs other', 'Turnip', 'Carrot',\n",
       "       'Redish', 'Arcanut (Processed)', 'Atcanut (Raw)',\n",
       "       'Cashewnut Processed', 'Cashewnut Raw', 'Cardamom', 'Rubber',\n",
       "       'Bitter Gourd', 'Drum Stick', 'Jack Fruit', 'Snak Guard', 'Tea',\n",
       "       'Coffee', 'Cauliflower', 'Other Citrus Fruit', 'Water Melon',\n",
       "       'Total foodgrain', 'Kapas', 'Colocosia', 'Lentil', 'Bean',\n",
       "       'Jobster', 'Perilla', 'Rajmash Kholar', 'Ricebean (nagadal)',\n",
       "       'Ash Gourd', 'Beet Root', 'Lab-Lab', 'Ribed Guard', 'Yam',\n",
       "       'Pump Kin', 'Apple', 'Peach', 'Pear', 'Plums', 'Litchi', 'Ber',\n",
       "       'Other Dry Fruit', 'Jute & mesta'], dtype=object)"
      ]
     },
     "execution_count": 42,
     "metadata": {},
     "output_type": "execute_result"
    }
   ],
   "source": [
    "print(\"Unique Crops:\", df['Crop'].nunique())\n",
    "df['Crop'].unique()"
   ]
  },
  {
   "cell_type": "markdown",
   "id": "7d9c65aa",
   "metadata": {},
   "source": [
    "### Removing the empty spaces"
   ]
  },
  {
   "cell_type": "code",
   "execution_count": 43,
   "id": "459ee2eb",
   "metadata": {},
   "outputs": [
    {
     "name": "stdout",
     "output_type": "stream",
     "text": [
      "Unique Seasons: 6\n"
     ]
    },
    {
     "data": {
      "text/plain": [
       "array(['Kharif     ', 'Whole Year ', 'Autumn     ', 'Rabi       ',\n",
       "       'Summer     ', 'Winter     '], dtype=object)"
      ]
     },
     "execution_count": 43,
     "metadata": {},
     "output_type": "execute_result"
    }
   ],
   "source": [
    "print(\"Unique Seasons:\", df['Season'].nunique())\n",
    "df['Season'].unique()"
   ]
  },
  {
   "cell_type": "code",
   "execution_count": 49,
   "id": "bcb55570",
   "metadata": {},
   "outputs": [
    {
     "data": {
      "text/plain": [
       "array(['Kharif', 'Whole Year', 'Autumn', 'Rabi', 'Summer', 'Winter'],\n",
       "      dtype=object)"
      ]
     },
     "execution_count": 49,
     "metadata": {},
     "output_type": "execute_result"
    }
   ],
   "source": [
    "df['Season'] = df['Season'].str.strip()\n",
    "df['Season'].unique()"
   ]
  },
  {
   "cell_type": "markdown",
   "id": "a238f251",
   "metadata": {},
   "source": [
    "### Overall Statistics of the data"
   ]
  },
  {
   "cell_type": "code",
   "execution_count": 54,
   "id": "0e05100e",
   "metadata": {
    "scrolled": true
   },
   "outputs": [
    {
     "data": {
      "text/html": [
       "<div>\n",
       "<style scoped>\n",
       "    .dataframe tbody tr th:only-of-type {\n",
       "        vertical-align: middle;\n",
       "    }\n",
       "\n",
       "    .dataframe tbody tr th {\n",
       "        vertical-align: top;\n",
       "    }\n",
       "\n",
       "    .dataframe thead th {\n",
       "        text-align: right;\n",
       "    }\n",
       "</style>\n",
       "<table border=\"1\" class=\"dataframe\">\n",
       "  <thead>\n",
       "    <tr style=\"text-align: right;\">\n",
       "      <th></th>\n",
       "      <th>State_Name</th>\n",
       "      <th>District_Name</th>\n",
       "      <th>Crop_Year</th>\n",
       "      <th>Season</th>\n",
       "      <th>Crop</th>\n",
       "      <th>Area</th>\n",
       "      <th>Production</th>\n",
       "    </tr>\n",
       "  </thead>\n",
       "  <tbody>\n",
       "    <tr>\n",
       "      <th>count</th>\n",
       "      <td>242361</td>\n",
       "      <td>242361</td>\n",
       "      <td>242361.000000</td>\n",
       "      <td>242361</td>\n",
       "      <td>242361</td>\n",
       "      <td>2.423610e+05</td>\n",
       "      <td>2.423610e+05</td>\n",
       "    </tr>\n",
       "    <tr>\n",
       "      <th>unique</th>\n",
       "      <td>33</td>\n",
       "      <td>646</td>\n",
       "      <td>NaN</td>\n",
       "      <td>6</td>\n",
       "      <td>124</td>\n",
       "      <td>NaN</td>\n",
       "      <td>NaN</td>\n",
       "    </tr>\n",
       "    <tr>\n",
       "      <th>top</th>\n",
       "      <td>Uttar Pradesh</td>\n",
       "      <td>TUMKUR</td>\n",
       "      <td>NaN</td>\n",
       "      <td>Kharif</td>\n",
       "      <td>Rice</td>\n",
       "      <td>NaN</td>\n",
       "      <td>NaN</td>\n",
       "    </tr>\n",
       "    <tr>\n",
       "      <th>freq</th>\n",
       "      <td>33189</td>\n",
       "      <td>931</td>\n",
       "      <td>NaN</td>\n",
       "      <td>94283</td>\n",
       "      <td>15082</td>\n",
       "      <td>NaN</td>\n",
       "      <td>NaN</td>\n",
       "    </tr>\n",
       "    <tr>\n",
       "      <th>mean</th>\n",
       "      <td>NaN</td>\n",
       "      <td>NaN</td>\n",
       "      <td>2005.625773</td>\n",
       "      <td>NaN</td>\n",
       "      <td>NaN</td>\n",
       "      <td>1.216741e+04</td>\n",
       "      <td>5.825034e+05</td>\n",
       "    </tr>\n",
       "    <tr>\n",
       "      <th>std</th>\n",
       "      <td>NaN</td>\n",
       "      <td>NaN</td>\n",
       "      <td>4.958285</td>\n",
       "      <td>NaN</td>\n",
       "      <td>NaN</td>\n",
       "      <td>5.085744e+04</td>\n",
       "      <td>1.706581e+07</td>\n",
       "    </tr>\n",
       "    <tr>\n",
       "      <th>min</th>\n",
       "      <td>NaN</td>\n",
       "      <td>NaN</td>\n",
       "      <td>1997.000000</td>\n",
       "      <td>NaN</td>\n",
       "      <td>NaN</td>\n",
       "      <td>1.000000e-01</td>\n",
       "      <td>0.000000e+00</td>\n",
       "    </tr>\n",
       "    <tr>\n",
       "      <th>25%</th>\n",
       "      <td>NaN</td>\n",
       "      <td>NaN</td>\n",
       "      <td>2002.000000</td>\n",
       "      <td>NaN</td>\n",
       "      <td>NaN</td>\n",
       "      <td>8.700000e+01</td>\n",
       "      <td>8.800000e+01</td>\n",
       "    </tr>\n",
       "    <tr>\n",
       "      <th>50%</th>\n",
       "      <td>NaN</td>\n",
       "      <td>NaN</td>\n",
       "      <td>2006.000000</td>\n",
       "      <td>NaN</td>\n",
       "      <td>NaN</td>\n",
       "      <td>6.030000e+02</td>\n",
       "      <td>7.290000e+02</td>\n",
       "    </tr>\n",
       "    <tr>\n",
       "      <th>75%</th>\n",
       "      <td>NaN</td>\n",
       "      <td>NaN</td>\n",
       "      <td>2010.000000</td>\n",
       "      <td>NaN</td>\n",
       "      <td>NaN</td>\n",
       "      <td>4.545000e+03</td>\n",
       "      <td>7.023000e+03</td>\n",
       "    </tr>\n",
       "    <tr>\n",
       "      <th>max</th>\n",
       "      <td>NaN</td>\n",
       "      <td>NaN</td>\n",
       "      <td>2015.000000</td>\n",
       "      <td>NaN</td>\n",
       "      <td>NaN</td>\n",
       "      <td>8.580100e+06</td>\n",
       "      <td>1.250800e+09</td>\n",
       "    </tr>\n",
       "  </tbody>\n",
       "</table>\n",
       "</div>"
      ],
      "text/plain": [
       "           State_Name District_Name      Crop_Year  Season    Crop  \\\n",
       "count          242361        242361  242361.000000  242361  242361   \n",
       "unique             33           646            NaN       6     124   \n",
       "top     Uttar Pradesh        TUMKUR            NaN  Kharif    Rice   \n",
       "freq            33189           931            NaN   94283   15082   \n",
       "mean              NaN           NaN    2005.625773     NaN     NaN   \n",
       "std               NaN           NaN       4.958285     NaN     NaN   \n",
       "min               NaN           NaN    1997.000000     NaN     NaN   \n",
       "25%               NaN           NaN    2002.000000     NaN     NaN   \n",
       "50%               NaN           NaN    2006.000000     NaN     NaN   \n",
       "75%               NaN           NaN    2010.000000     NaN     NaN   \n",
       "max               NaN           NaN    2015.000000     NaN     NaN   \n",
       "\n",
       "                Area    Production  \n",
       "count   2.423610e+05  2.423610e+05  \n",
       "unique           NaN           NaN  \n",
       "top              NaN           NaN  \n",
       "freq             NaN           NaN  \n",
       "mean    1.216741e+04  5.825034e+05  \n",
       "std     5.085744e+04  1.706581e+07  \n",
       "min     1.000000e-01  0.000000e+00  \n",
       "25%     8.700000e+01  8.800000e+01  \n",
       "50%     6.030000e+02  7.290000e+02  \n",
       "75%     4.545000e+03  7.023000e+03  \n",
       "max     8.580100e+06  1.250800e+09  "
      ]
     },
     "execution_count": 54,
     "metadata": {},
     "output_type": "execute_result"
    }
   ],
   "source": [
    "df.describe(include='all')"
   ]
  },
  {
   "cell_type": "markdown",
   "id": "4ff9d063",
   "metadata": {},
   "source": [
    "### Adding new column"
   ]
  },
  {
   "cell_type": "code",
   "execution_count": 88,
   "id": "61d7f52c",
   "metadata": {},
   "outputs": [],
   "source": [
    "def crop_types(crop):\n",
    "    if crop in ['Rice','Maize','Wheat','Barley','Varagu','Other Cereals & Millets','Ragi','Small millets','Bajra','Jowar', 'Paddy','Total foodgrain','Jobster']:\n",
    "        return 'Cereal'\n",
    "    if crop in ['Moong','Urad','Arhar/Tur','Peas & beans','Masoor',\n",
    "              'Other Kharif pulses','other misc. pulses','Ricebean (nagadal)',\n",
    "              'Rajmash Kholar','Lentil','Samai','Blackgram','Korra','Cowpea(Lobia)',\n",
    "              'Other  Rabi pulses','Other Kharif pulses','Peas & beans (Pulses)','Pulses total','Gram']:\n",
    "        return 'Pulses'\n",
    "    if crop in ['Peach','Apple','Litchi','Pear','Plums','Ber','Sapota','Lemon','Pome Granet',\n",
    "               'Other Citrus Fruit','Water Melon','Jack Fruit','Grapes','Pineapple','Orange',\n",
    "               'Pome Fruit','Citrus Fruit','Other Fresh Fruits','Mango','Papaya','Coconut','Banana']:\n",
    "        return 'Fruits'\n",
    "    if crop in ['Bean','Lab-Lab','Moth','Guar seed','Soyabean','Horse-gram']:\n",
    "        return 'Beans'\n",
    "    if crop in ['Turnip','Peas','Beet Root','Carrot','Yam','Ribed Guard','Ash Gourd ','Pump Kin','Redish','Snak Guard','Bottle Gourd',\n",
    "              'Bitter Gourd','Cucumber','Drum Stick','Cauliflower','Beans & Mutter(Vegetable)','Cabbage',\n",
    "              'Bhindi','Tomato','Brinjal','Khesari','Sweet potato','Potato','Onion','Tapioca','Colocosia']:\n",
    "        return 'Vegetables'\n",
    "    if crop in ['Perilla','Ginger','Cardamom','Black pepper','Dry ginger','Garlic','Coriander','Turmeric','Dry chillies','Cond-spcs other']:\n",
    "        return 'spices'\n",
    "    if crop in ['other fibres','Kapas','Jute & mesta','Jute','Mesta','Cotton(lint)','Sannhamp']:\n",
    "        return 'fibres'\n",
    "    if crop in ['Arcanut (Processed)','Atcanut (Raw)','Cashewnut Processed','Cashewnut Raw','Cashewnut','Arecanut','Groundnut']:\n",
    "        return 'Nuts'\n",
    "    if crop in ['other oilseeds','Safflower','Niger seed','Castor seed','Linseed','Sunflower','Rapeseed &Mustard','Sesamum','Oilseeds total']:\n",
    "        return 'oilseeds'\n",
    "    if crop in ['Tobacco','Coffee','Tea','Sugarcane','Rubber']:\n",
    "        return 'Commercial'\n",
    "\n",
    "df['Crop_Type']=df['Crop'].apply(crop_types)"
   ]
  },
  {
   "cell_type": "code",
   "execution_count": 89,
   "id": "c941dd47",
   "metadata": {
    "scrolled": true
   },
   "outputs": [
    {
     "data": {
      "text/html": [
       "<div>\n",
       "<style scoped>\n",
       "    .dataframe tbody tr th:only-of-type {\n",
       "        vertical-align: middle;\n",
       "    }\n",
       "\n",
       "    .dataframe tbody tr th {\n",
       "        vertical-align: top;\n",
       "    }\n",
       "\n",
       "    .dataframe thead th {\n",
       "        text-align: right;\n",
       "    }\n",
       "</style>\n",
       "<table border=\"1\" class=\"dataframe\">\n",
       "  <thead>\n",
       "    <tr style=\"text-align: right;\">\n",
       "      <th></th>\n",
       "      <th>State_Name</th>\n",
       "      <th>District_Name</th>\n",
       "      <th>Crop_Year</th>\n",
       "      <th>Season</th>\n",
       "      <th>Crop</th>\n",
       "      <th>Area</th>\n",
       "      <th>Production</th>\n",
       "      <th>Crop_Type</th>\n",
       "    </tr>\n",
       "  </thead>\n",
       "  <tbody>\n",
       "    <tr>\n",
       "      <th>0</th>\n",
       "      <td>Andaman and Nicobar Islands</td>\n",
       "      <td>NICOBARS</td>\n",
       "      <td>2000</td>\n",
       "      <td>Kharif</td>\n",
       "      <td>Arecanut</td>\n",
       "      <td>1254.0</td>\n",
       "      <td>2000.0</td>\n",
       "      <td>Nuts</td>\n",
       "    </tr>\n",
       "    <tr>\n",
       "      <th>1</th>\n",
       "      <td>Andaman and Nicobar Islands</td>\n",
       "      <td>NICOBARS</td>\n",
       "      <td>2000</td>\n",
       "      <td>Kharif</td>\n",
       "      <td>Other Kharif pulses</td>\n",
       "      <td>2.0</td>\n",
       "      <td>1.0</td>\n",
       "      <td>Pulses</td>\n",
       "    </tr>\n",
       "    <tr>\n",
       "      <th>2</th>\n",
       "      <td>Andaman and Nicobar Islands</td>\n",
       "      <td>NICOBARS</td>\n",
       "      <td>2000</td>\n",
       "      <td>Kharif</td>\n",
       "      <td>Rice</td>\n",
       "      <td>102.0</td>\n",
       "      <td>321.0</td>\n",
       "      <td>Cereal</td>\n",
       "    </tr>\n",
       "    <tr>\n",
       "      <th>3</th>\n",
       "      <td>Andaman and Nicobar Islands</td>\n",
       "      <td>NICOBARS</td>\n",
       "      <td>2000</td>\n",
       "      <td>Whole Year</td>\n",
       "      <td>Banana</td>\n",
       "      <td>176.0</td>\n",
       "      <td>641.0</td>\n",
       "      <td>Fruits</td>\n",
       "    </tr>\n",
       "    <tr>\n",
       "      <th>4</th>\n",
       "      <td>Andaman and Nicobar Islands</td>\n",
       "      <td>NICOBARS</td>\n",
       "      <td>2000</td>\n",
       "      <td>Whole Year</td>\n",
       "      <td>Cashewnut</td>\n",
       "      <td>720.0</td>\n",
       "      <td>165.0</td>\n",
       "      <td>Nuts</td>\n",
       "    </tr>\n",
       "  </tbody>\n",
       "</table>\n",
       "</div>"
      ],
      "text/plain": [
       "                    State_Name District_Name  Crop_Year      Season  \\\n",
       "0  Andaman and Nicobar Islands      NICOBARS       2000      Kharif   \n",
       "1  Andaman and Nicobar Islands      NICOBARS       2000      Kharif   \n",
       "2  Andaman and Nicobar Islands      NICOBARS       2000      Kharif   \n",
       "3  Andaman and Nicobar Islands      NICOBARS       2000  Whole Year   \n",
       "4  Andaman and Nicobar Islands      NICOBARS       2000  Whole Year   \n",
       "\n",
       "                  Crop    Area  Production Crop_Type  \n",
       "0             Arecanut  1254.0      2000.0      Nuts  \n",
       "1  Other Kharif pulses     2.0         1.0    Pulses  \n",
       "2                 Rice   102.0       321.0    Cereal  \n",
       "3               Banana   176.0       641.0    Fruits  \n",
       "4            Cashewnut   720.0       165.0      Nuts  "
      ]
     },
     "execution_count": 89,
     "metadata": {},
     "output_type": "execute_result"
    }
   ],
   "source": [
    "df.head()"
   ]
  },
  {
   "cell_type": "markdown",
   "id": "f86ec6ff",
   "metadata": {},
   "source": [
    "### Visualization"
   ]
  },
  {
   "cell_type": "code",
   "execution_count": 106,
   "id": "48449bd6",
   "metadata": {},
   "outputs": [
    {
     "data": {
      "text/html": [
       "<div>\n",
       "<style scoped>\n",
       "    .dataframe tbody tr th:only-of-type {\n",
       "        vertical-align: middle;\n",
       "    }\n",
       "\n",
       "    .dataframe tbody tr th {\n",
       "        vertical-align: top;\n",
       "    }\n",
       "\n",
       "    .dataframe thead th {\n",
       "        text-align: right;\n",
       "    }\n",
       "</style>\n",
       "<table border=\"1\" class=\"dataframe\">\n",
       "  <thead>\n",
       "    <tr style=\"text-align: right;\">\n",
       "      <th></th>\n",
       "      <th>State_Name</th>\n",
       "      <th>Crop_Year</th>\n",
       "      <th>Area</th>\n",
       "      <th>Production</th>\n",
       "    </tr>\n",
       "  </thead>\n",
       "  <tbody>\n",
       "    <tr>\n",
       "      <th>15</th>\n",
       "      <td>Kerala</td>\n",
       "      <td>8028282</td>\n",
       "      <td>3.180225e+07</td>\n",
       "      <td>9.788005e+10</td>\n",
       "    </tr>\n",
       "    <tr>\n",
       "      <th>1</th>\n",
       "      <td>Andhra Pradesh</td>\n",
       "      <td>19180467</td>\n",
       "      <td>1.315073e+08</td>\n",
       "      <td>1.732459e+10</td>\n",
       "    </tr>\n",
       "    <tr>\n",
       "      <th>27</th>\n",
       "      <td>Tamil Nadu</td>\n",
       "      <td>26596201</td>\n",
       "      <td>9.541695e+07</td>\n",
       "      <td>1.207644e+10</td>\n",
       "    </tr>\n",
       "    <tr>\n",
       "      <th>30</th>\n",
       "      <td>Uttar Pradesh</td>\n",
       "      <td>66576513</td>\n",
       "      <td>4.336223e+08</td>\n",
       "      <td>3.234493e+09</td>\n",
       "    </tr>\n",
       "    <tr>\n",
       "      <th>3</th>\n",
       "      <td>Assam</td>\n",
       "      <td>29337168</td>\n",
       "      <td>7.037875e+07</td>\n",
       "      <td>2.111752e+09</td>\n",
       "    </tr>\n",
       "  </tbody>\n",
       "</table>\n",
       "</div>"
      ],
      "text/plain": [
       "        State_Name  Crop_Year          Area    Production\n",
       "15          Kerala    8028282  3.180225e+07  9.788005e+10\n",
       "1   Andhra Pradesh   19180467  1.315073e+08  1.732459e+10\n",
       "27      Tamil Nadu   26596201  9.541695e+07  1.207644e+10\n",
       "30   Uttar Pradesh   66576513  4.336223e+08  3.234493e+09\n",
       "3            Assam   29337168  7.037875e+07  2.111752e+09"
      ]
     },
     "execution_count": 106,
     "metadata": {},
     "output_type": "execute_result"
    }
   ],
   "source": [
    "statewise_prod = df.groupby('State_Name').sum().reset_index().sort_values(by='Production', ascending=False)\n",
    "statewise_prod.head()"
   ]
  },
  {
   "cell_type": "code",
   "execution_count": 117,
   "id": "ddc91c23",
   "metadata": {},
   "outputs": [
    {
     "data": {
      "text/plain": [
       "<AxesSubplot:xlabel='Production', ylabel='State_Name'>"
      ]
     },
     "execution_count": 117,
     "metadata": {},
     "output_type": "execute_result"
    },
    {
     "data": {
      "image/png": "[encoded data removed]",
      "text/plain": [
       "<Figure size 936x1080 with 1 Axes>"
      ]
     },
     "metadata": {
      "needs_background": "light"
     },
     "output_type": "display_data"
    }
   ],
   "source": [
    "plt.figure(figsize= (13,15))\n",
    "plt.xscale('log')\n",
    "sns.barplot(x=statewise_prod['Production'], y=statewise_prod[\"State_Name\"], orient='h')"
   ]
  },
  {
   "cell_type": "code",
   "execution_count": 55,
   "id": "8341b62f",
   "metadata": {},
   "outputs": [
    {
     "data": {
      "text/plain": [
       "Rice                 15082\n",
       "Maize                13787\n",
       "Moong(Green Gram)    10106\n",
       "Urad                  9710\n",
       "Sesamum               8821\n",
       "                     ...  \n",
       "Pear                     6\n",
       "Plums                    6\n",
       "Apple                    4\n",
       "Peach                    4\n",
       "Other Dry Fruit          1\n",
       "Name: Crop, Length: 124, dtype: int64"
      ]
     },
     "execution_count": 55,
     "metadata": {},
     "output_type": "execute_result"
    }
   ],
   "source": [
    "df['Crop'].value_counts()"
   ]
  },
  {
   "cell_type": "code",
   "execution_count": 74,
   "id": "ea3a72a2",
   "metadata": {},
   "outputs": [
    {
     "data": {
      "text/html": [
       "<div>\n",
       "<style scoped>\n",
       "    .dataframe tbody tr th:only-of-type {\n",
       "        vertical-align: middle;\n",
       "    }\n",
       "\n",
       "    .dataframe tbody tr th {\n",
       "        vertical-align: top;\n",
       "    }\n",
       "\n",
       "    .dataframe thead th {\n",
       "        text-align: right;\n",
       "    }\n",
       "</style>\n",
       "<table border=\"1\" class=\"dataframe\">\n",
       "  <thead>\n",
       "    <tr style=\"text-align: right;\">\n",
       "      <th></th>\n",
       "      <th>Crop</th>\n",
       "      <th>Production</th>\n",
       "    </tr>\n",
       "  </thead>\n",
       "  <tbody>\n",
       "    <tr>\n",
       "      <th>28</th>\n",
       "      <td>Coconut</td>\n",
       "      <td>1.299816e+11</td>\n",
       "    </tr>\n",
       "    <tr>\n",
       "      <th>106</th>\n",
       "      <td>Sugarcane</td>\n",
       "      <td>5.535682e+09</td>\n",
       "    </tr>\n",
       "    <tr>\n",
       "      <th>95</th>\n",
       "      <td>Rice</td>\n",
       "      <td>1.605470e+09</td>\n",
       "    </tr>\n",
       "    <tr>\n",
       "      <th>119</th>\n",
       "      <td>Wheat</td>\n",
       "      <td>1.332826e+09</td>\n",
       "    </tr>\n",
       "    <tr>\n",
       "      <th>87</th>\n",
       "      <td>Potato</td>\n",
       "      <td>4.248263e+08</td>\n",
       "    </tr>\n",
       "    <tr>\n",
       "      <th>33</th>\n",
       "      <td>Cotton(lint)</td>\n",
       "      <td>2.970000e+08</td>\n",
       "    </tr>\n",
       "    <tr>\n",
       "      <th>59</th>\n",
       "      <td>Maize</td>\n",
       "      <td>2.733418e+08</td>\n",
       "    </tr>\n",
       "    <tr>\n",
       "      <th>49</th>\n",
       "      <td>Jute</td>\n",
       "      <td>1.815582e+08</td>\n",
       "    </tr>\n",
       "    <tr>\n",
       "      <th>7</th>\n",
       "      <td>Banana</td>\n",
       "      <td>1.461327e+08</td>\n",
       "    </tr>\n",
       "    <tr>\n",
       "      <th>105</th>\n",
       "      <td>Soyabean</td>\n",
       "      <td>1.418372e+08</td>\n",
       "    </tr>\n",
       "  </tbody>\n",
       "</table>\n",
       "</div>"
      ],
      "text/plain": [
       "             Crop    Production\n",
       "28       Coconut   1.299816e+11\n",
       "106     Sugarcane  5.535682e+09\n",
       "95           Rice  1.605470e+09\n",
       "119         Wheat  1.332826e+09\n",
       "87         Potato  4.248263e+08\n",
       "33   Cotton(lint)  2.970000e+08\n",
       "59          Maize  2.733418e+08\n",
       "49           Jute  1.815582e+08\n",
       "7          Banana  1.461327e+08\n",
       "105      Soyabean  1.418372e+08"
      ]
     },
     "execution_count": 74,
     "metadata": {},
     "output_type": "execute_result"
    }
   ],
   "source": [
    "crop_prod = df.groupby('Crop')['Production'].sum().reset_index().sort_values(by='Production', ascending=False)\n",
    "crop_prod.head(10)"
   ]
  },
  {
   "cell_type": "code",
   "execution_count": 75,
   "id": "d5d4abde",
   "metadata": {},
   "outputs": [
    {
     "data": {
      "text/plain": [
       "Index(['Crop', 'Production'], dtype='object')"
      ]
     },
     "execution_count": 75,
     "metadata": {},
     "output_type": "execute_result"
    }
   ],
   "source": [
    "crop_prod.columns"
   ]
  },
  {
   "cell_type": "code",
   "execution_count": 93,
   "id": "83eb0ed6",
   "metadata": {},
   "outputs": [
    {
     "data": {
      "text/plain": [
       "Text(0.5, 1.0, 'Total Crops vs Production')"
      ]
     },
     "execution_count": 93,
     "metadata": {},
     "output_type": "execute_result"
    },
    {
     "data": {
      "image/png": "[encoded data removed]",
      "text/plain": [
       "<Figure size 936x504 with 1 Axes>"
      ]
     },
     "metadata": {
      "needs_background": "light"
     },
     "output_type": "display_data"
    }
   ],
   "source": [
    "fig, ax = plt.subplots(figsize=(13,7))\n",
    "sns.barplot(x=crop_prod['Crop'].head(10), y=crop_prod['Production'])\n",
    "plt.yscale('log')\n",
    "plt.title('Total Crops vs Production')"
   ]
  },
  {
   "cell_type": "code",
   "execution_count": 121,
   "id": "fceff03f",
   "metadata": {},
   "outputs": [
    {
     "data": {
      "text/plain": [
       "Text(0.5, 1.0, 'Crop Types vs Production')"
      ]
     },
     "execution_count": 121,
     "metadata": {},
     "output_type": "execute_result"
    },
    {
     "data": {
      "image/png": "[encoded data removed]",
      "text/plain": [
       "<Figure size 936x504 with 1 Axes>"
      ]
     },
     "metadata": {
      "needs_background": "light"
     },
     "output_type": "display_data"
    }
   ],
   "source": [
    "df_crop_type = df.copy()\n",
    "df_crop_type.head()\n",
    "df_crop_type = df_crop_type.groupby('Crop_Type')['Production'].sum().reset_index().sort_values(by='Production', ascending=False)\n",
    "\n",
    "fig, ax = plt.subplots(figsize=(13,7))\n",
    "sns.barplot(x=df_crop_type['Crop_Type'], y=df_crop_type['Production'])\n",
    "plt.title('Crop Types vs Production')"
   ]
  },
  {
   "cell_type": "code",
   "execution_count": 119,
   "id": "dc952a00",
   "metadata": {},
   "outputs": [
    {
     "data": {
      "text/plain": [
       "Text(0.5, 1.0, 'Seasonal Crops vs Production')"
      ]
     },
     "execution_count": 119,
     "metadata": {},
     "output_type": "execute_result"
    },
    {
     "data": {
      "image/png": "[encoded data removed]",
      "text/plain": [
       "<Figure size 936x504 with 1 Axes>"
      ]
     },
     "metadata": {
      "needs_background": "light"
     },
     "output_type": "display_data"
    }
   ],
   "source": [
    "df_season=df.copy()\n",
    "season = df_season.groupby('Season')['Production'].sum().reset_index().sort_values(by='Production', ascending=False)\n",
    "fig, ax = plt.subplots(figsize=(13,7))\n",
    "sns.barplot(x=season['Season'].head(10), y=season['Production'].head(10))\n",
    "plt.yscale('log')\n",
    "plt.title('Seasonal Crops vs Production')"
   ]
  },
  {
   "cell_type": "markdown",
   "id": "b5e18fb9",
   "metadata": {},
   "source": [
    "### Checking for outliers"
   ]
  },
  {
   "cell_type": "code",
   "execution_count": null,
   "id": "a8dcfddf",
   "metadata": {},
   "outputs": [],
   "source": []
  }
 ],
 "metadata": {
  "kernelspec": {
   "display_name": "Python 3",
   "language": "python",
   "name": "python3"
  },
  "language_info": {
   "codemirror_mode": {
    "name": "ipython",
    "version": 3
   },
   "file_extension": ".py",
   "mimetype": "text/x-python",
   "name": "python",
   "nbconvert_exporter": "python",
   "pygments_lexer": "ipython3",
   "version": "3.8.8"
  }
 },
 "nbformat": 4,
 "nbformat_minor": 5
}
